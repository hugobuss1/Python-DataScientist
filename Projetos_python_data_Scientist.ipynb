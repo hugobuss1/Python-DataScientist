{
  "nbformat": 4,
  "nbformat_minor": 0,
  "metadata": {
    "colab": {
      "provenance": []
    },
    "kernelspec": {
      "name": "python3",
      "display_name": "Python 3"
    },
    "language_info": {
      "name": "python"
    }
  },
  "cells": [
    {
      "cell_type": "code",
      "execution_count": null,
      "metadata": {
        "id": "tZNNZvgjdLrZ"
      },
      "outputs": [],
      "source": []
    },
    {
      "cell_type": "code",
      "source": [
        "print('Ola mundo')\n",
        "\n",
        "\n",
        "print"
      ],
      "metadata": {
        "colab": {
          "base_uri": "https://localhost:8080/"
        },
        "id": "ISZyLwOreI8u",
        "outputId": "b707d21e-ba70-4f6f-c732-42dc311971d6"
      },
      "execution_count": null,
      "outputs": [
        {
          "output_type": "stream",
          "name": "stdout",
          "text": [
            "Ola mundo\n"
          ]
        },
        {
          "output_type": "execute_result",
          "data": {
            "text/plain": [
              "<function print(*args, sep=' ', end='\\n', file=None, flush=False)>"
            ]
          },
          "metadata": {},
          "execution_count": 1
        }
      ]
    },
    {
      "cell_type": "code",
      "source": [
        "print ('hugo')\n"
      ],
      "metadata": {
        "colab": {
          "base_uri": "https://localhost:8080/"
        },
        "id": "31-084pMBfP4",
        "outputId": "406455fc-b14c-4fb6-f5c6-479d7974093b"
      },
      "execution_count": null,
      "outputs": [
        {
          "output_type": "stream",
          "name": "stdout",
          "text": [
            "hugo\n"
          ]
        }
      ]
    },
    {
      "cell_type": "code",
      "source": [
        "nome = input('Escreva seu nome:')"
      ],
      "metadata": {
        "colab": {
          "base_uri": "https://localhost:8080/"
        },
        "id": "T72-lVrGVdoX",
        "outputId": "f7737d3a-f30a-4f7b-f915-19847f1a1263"
      },
      "execution_count": null,
      "outputs": [
        {
          "name": "stdout",
          "output_type": "stream",
          "text": [
            "Escreva seu nome:hugo\n"
          ]
        }
      ]
    },
    {
      "cell_type": "code",
      "source": [
        "nome"
      ],
      "metadata": {
        "colab": {
          "base_uri": "https://localhost:8080/",
          "height": 35
        },
        "id": "zPwqp6KdYIcI",
        "outputId": "1d0b55e5-2b8d-4bbf-ac4e-f5d30c31ddd8"
      },
      "execution_count": null,
      "outputs": [
        {
          "output_type": "execute_result",
          "data": {
            "text/plain": [
              "'hugo'"
            ],
            "application/vnd.google.colaboratory.intrinsic+json": {
              "type": "string"
            }
          },
          "metadata": {},
          "execution_count": 4
        }
      ]
    },
    {
      "cell_type": "code",
      "source": [
        "ano_entrada = input('Escreva o ano de ingresso do(a) estudante:')"
      ],
      "metadata": {
        "colab": {
          "base_uri": "https://localhost:8080/"
        },
        "id": "8jaE-KheYUak",
        "outputId": "85445479-0fc3-44a6-8d58-ac3dbf92f8bf"
      },
      "execution_count": null,
      "outputs": [
        {
          "name": "stdout",
          "output_type": "stream",
          "text": [
            "Escreva o ano de ingresso do(a) estudante:2023\n"
          ]
        }
      ]
    },
    {
      "cell_type": "code",
      "source": [
        "type(ano_entrada)"
      ],
      "metadata": {
        "colab": {
          "base_uri": "https://localhost:8080/"
        },
        "id": "mzTGOjMgYtuj",
        "outputId": "8b287578-b8cf-4df5-c9dc-f6d7a2c1316a"
      },
      "execution_count": null,
      "outputs": [
        {
          "output_type": "execute_result",
          "data": {
            "text/plain": [
              "str"
            ]
          },
          "metadata": {},
          "execution_count": 6
        }
      ]
    },
    {
      "cell_type": "code",
      "source": [
        "ano_entrada = int(input('Escreva o ano de ingresso do(a) estudante:'))"
      ],
      "metadata": {
        "colab": {
          "base_uri": "https://localhost:8080/"
        },
        "id": "oY9SkCuzY0c1",
        "outputId": "8d09e58a-d01f-43a3-d705-00a0fb93e2e9"
      },
      "execution_count": null,
      "outputs": [
        {
          "name": "stdout",
          "output_type": "stream",
          "text": [
            "Escreva o ano de ingresso do(a) estudante:2023\n"
          ]
        }
      ]
    },
    {
      "cell_type": "code",
      "source": [
        "type(ano_entrada)"
      ],
      "metadata": {
        "colab": {
          "base_uri": "https://localhost:8080/"
        },
        "id": "rSJ-g2bHZGNV",
        "outputId": "161cc318-e83d-4e5a-deff-526d0731c6de"
      },
      "execution_count": null,
      "outputs": [
        {
          "output_type": "execute_result",
          "data": {
            "text/plain": [
              "int"
            ]
          },
          "metadata": {},
          "execution_count": 9
        }
      ]
    },
    {
      "cell_type": "code",
      "source": [
        "nota_entrada =float(input('Digite a nota do teste de ingresso:'))\n",
        "print(f'Ano de entrada {ano_entrada} - nota do teste de ingresso {nota_entrada}')"
      ],
      "metadata": {
        "colab": {
          "base_uri": "https://localhost:8080/"
        },
        "id": "QhJeg7WMZzrt",
        "outputId": "5ac6a825-5db1-4665-b22c-803a74c3d73d"
      },
      "execution_count": null,
      "outputs": [
        {
          "output_type": "stream",
          "name": "stdout",
          "text": [
            "Digite a nota do teste de ingresso:9.0\n",
            "Ano de entrada 2023 - nota do teste de ingresso 9.0\n"
          ]
        }
      ]
    },
    {
      "cell_type": "code",
      "source": [
        "contador = 0\n",
        "while contador < 5:\n",
        "  print(\"contador:\", contador)\n",
        "  contador +=1\n"
      ],
      "metadata": {
        "id": "mI6b7eY0aQSI",
        "colab": {
          "base_uri": "https://localhost:8080/"
        },
        "outputId": "000d390f-25f5-44ea-af7e-46b4e858c977"
      },
      "execution_count": null,
      "outputs": [
        {
          "output_type": "stream",
          "name": "stdout",
          "text": [
            "contador: 0\n",
            "contador: 1\n",
            "contador: 2\n",
            "contador: 3\n",
            "contador: 4\n"
          ]
        }
      ]
    },
    {
      "cell_type": "code",
      "source": [
        "for contador in range(1,11):\n",
        "  print(contador)"
      ],
      "metadata": {
        "colab": {
          "base_uri": "https://localhost:8080/"
        },
        "id": "THRYCP1RjDTn",
        "outputId": "b8d42028-7f27-4fad-f03c-755865e66b2f"
      },
      "execution_count": null,
      "outputs": [
        {
          "output_type": "stream",
          "name": "stdout",
          "text": [
            "1\n",
            "2\n",
            "3\n",
            "4\n",
            "5\n",
            "6\n",
            "7\n",
            "8\n",
            "9\n",
            "10\n"
          ]
        }
      ]
    },
    {
      "cell_type": "code",
      "source": [
        "contador = 1\n",
        "while contador <= 3:\n",
        "  nota_1 = float(input('Digite a 1° nota: '))\n",
        "  nota_2 = float(input('Digite a 2° nota: '))\n",
        "\n",
        "  print(f'Média: {(nota_1+nota_2)/2}')\n",
        "  contador += 1\n",
        "\n"
      ],
      "metadata": {
        "colab": {
          "base_uri": "https://localhost:8080/"
        },
        "id": "7FUcCeTEj5Ca",
        "outputId": "32052943-d4e0-4b89-fe9c-4efd9346f1a6"
      },
      "execution_count": null,
      "outputs": [
        {
          "output_type": "stream",
          "name": "stdout",
          "text": [
            "Digite a 1° nota: 1\n",
            "Digite a 2° nota: 5\n",
            "Média: 3.0\n",
            "Digite a 1° nota: 5\n",
            "Digite a 2° nota: 8\n",
            "Média: 6.5\n",
            "Digite a 1° nota: 8\n",
            "Digite a 2° nota: 9\n",
            "Média: 8.5\n"
          ]
        }
      ]
    },
    {
      "cell_type": "code",
      "source": [
        "for contador in range(1,4):\n",
        "  nota_1 = float(input('Digite a 1° nota: '))\n",
        "  nota_2 = float(input('Digite a 2° nota: '))\n",
        "\n",
        "  print(f'Média: {(nota_1+nota_2)/2}')\n"
      ],
      "metadata": {
        "colab": {
          "base_uri": "https://localhost:8080/"
        },
        "id": "oLZJpvgnkvyb",
        "outputId": "9a06faae-2631-4aed-c456-50b8e98f04ff"
      },
      "execution_count": null,
      "outputs": [
        {
          "output_type": "stream",
          "name": "stdout",
          "text": [
            "Digite a 1° nota: 4\n",
            "Digite a 2° nota: 7\n",
            "Média: 5.5\n",
            "Digite a 1° nota: 8\n",
            "Digite a 2° nota: 9\n",
            "Média: 8.5\n",
            "Digite a 1° nota: 1\n",
            "Digite a 2° nota: 4\n",
            "Média: 2.5\n"
          ]
        }
      ]
    },
    {
      "cell_type": "code",
      "source": [
        "for i in range(1,6):\n",
        "    if i == 4:\n",
        "        continue\n",
        "    print(i)\n"
      ],
      "metadata": {
        "colab": {
          "base_uri": "https://localhost:8080/"
        },
        "id": "S5IdqBGJnJYM",
        "outputId": "ff92b254-101a-4600-bccf-000a8b234c6b"
      },
      "execution_count": null,
      "outputs": [
        {
          "output_type": "stream",
          "name": "stdout",
          "text": [
            "1\n",
            "2\n",
            "3\n",
            "5\n"
          ]
        }
      ]
    },
    {
      "cell_type": "code",
      "source": [
        "#             [0]          [1]  [2] [3] [4]\n",
        "\n",
        "lista = ['fabricio Daniel',9.5,9.0,9.0,True]\n",
        "lista"
      ],
      "metadata": {
        "colab": {
          "base_uri": "https://localhost:8080/"
        },
        "id": "gCPLp-sfwW0B",
        "outputId": "ced4fb0e-e52c-42ef-f40e-06068fc7d6bd"
      },
      "execution_count": null,
      "outputs": [
        {
          "output_type": "execute_result",
          "data": {
            "text/plain": [
              "['fabricio Daniel', 9.5, 9.0, 9.0, True]"
            ]
          },
          "metadata": {},
          "execution_count": 12
        }
      ]
    },
    {
      "cell_type": "code",
      "source": [
        "#             [0]          [1]  [2] [3] [4]\n",
        "lista = ['fabricio Daniel',9.5,9.0,9.0,True]\n",
        "\n"
      ],
      "metadata": {
        "id": "GZbOTKruxjfK"
      },
      "execution_count": null,
      "outputs": []
    },
    {
      "cell_type": "markdown",
      "source": [
        "como coletamos os dados através dos indices.Colocando o indice a ser selecionado\n"
      ],
      "metadata": {
        "id": "HplXLaGzxtGI"
      }
    },
    {
      "cell_type": "code",
      "source": [
        "lista [0]"
      ],
      "metadata": {
        "colab": {
          "base_uri": "https://localhost:8080/",
          "height": 35
        },
        "id": "xO4ebp4WyDwV",
        "outputId": "02ad5b88-956b-4507-d360-543df72331e9"
      },
      "execution_count": null,
      "outputs": [
        {
          "output_type": "execute_result",
          "data": {
            "text/plain": [
              "'fabricio Daniel'"
            ],
            "application/vnd.google.colaboratory.intrinsic+json": {
              "type": "string"
            }
          },
          "metadata": {},
          "execution_count": 13
        }
      ]
    },
    {
      "cell_type": "code",
      "source": [
        "lista[1]"
      ],
      "metadata": {
        "colab": {
          "base_uri": "https://localhost:8080/"
        },
        "id": "CA-_tt7Zx1-t",
        "outputId": "02501c89-9598-4578-de0d-a374f6a22d95"
      },
      "execution_count": null,
      "outputs": [
        {
          "output_type": "execute_result",
          "data": {
            "text/plain": [
              "9.5"
            ]
          },
          "metadata": {},
          "execution_count": 14
        }
      ]
    },
    {
      "cell_type": "code",
      "source": [
        "lista[-1]"
      ],
      "metadata": {
        "colab": {
          "base_uri": "https://localhost:8080/"
        },
        "id": "cdqwUpCzyMUZ",
        "outputId": "121dd6b1-3cae-4fac-acf4-f302bbc6d453"
      },
      "execution_count": null,
      "outputs": [
        {
          "output_type": "execute_result",
          "data": {
            "text/plain": [
              "True"
            ]
          },
          "metadata": {},
          "execution_count": 15
        }
      ]
    },
    {
      "cell_type": "markdown",
      "source": [
        "Uma forma mais dinamica de trabalhar item por item da lista é utilizando um laço for para leitura de elemento"
      ],
      "metadata": {
        "id": "2UyO-MpGybAC"
      }
    },
    {
      "cell_type": "code",
      "source": [
        "for elemento in lista:\n",
        "  print(elemento)"
      ],
      "metadata": {
        "colab": {
          "base_uri": "https://localhost:8080/"
        },
        "id": "nZUc43Tzym_M",
        "outputId": "38895a33-cd43-4130-e542-c55d3774e551"
      },
      "execution_count": null,
      "outputs": [
        {
          "output_type": "stream",
          "name": "stdout",
          "text": [
            "fabricio Daniel\n",
            "9.5\n",
            "9.0\n",
            "9.0\n",
            "True\n"
          ]
        }
      ]
    },
    {
      "cell_type": "markdown",
      "source": [
        "a nota 8.0 de Fabricio Daniel precisa ser ajustada pois ganhou 2 pontos em sua ultima nota por fazer um trabalho de turma.Então é necessaria fazer uma troca no valor do indice 3 de 8.0 para 10.0"
      ],
      "metadata": {
        "id": "w8welqYay5NU"
      }
    },
    {
      "cell_type": "code",
      "source": [
        "lista [3] = 10.0\n",
        "lista"
      ],
      "metadata": {
        "colab": {
          "base_uri": "https://localhost:8080/"
        },
        "id": "stNz0weKzMNT",
        "outputId": "0685246a-7c80-4325-cd0b-acaff6c132cc"
      },
      "execution_count": null,
      "outputs": [
        {
          "output_type": "execute_result",
          "data": {
            "text/plain": [
              "['fabricio Daniel', 9.5, 9.0, 10.0, True]"
            ]
          },
          "metadata": {},
          "execution_count": 17
        }
      ]
    },
    {
      "cell_type": "code",
      "source": [
        "media = (lista[1] + lista[2] + lista[3])/3\n",
        "media"
      ],
      "metadata": {
        "colab": {
          "base_uri": "https://localhost:8080/"
        },
        "id": "ssnVPzxmzeEl",
        "outputId": "962dcca6-2ac9-4d74-f510-c2f7a24dc33a"
      },
      "execution_count": null,
      "outputs": [
        {
          "output_type": "execute_result",
          "data": {
            "text/plain": [
              "9.5"
            ]
          },
          "metadata": {},
          "execution_count": 19
        }
      ]
    },
    {
      "cell_type": "code",
      "source": [
        "['Fabricio Daniel', 9.5, 9.0, 10.0, True]\n"
      ],
      "metadata": {
        "colab": {
          "base_uri": "https://localhost:8080/"
        },
        "id": "SmX5e2hTUyI7",
        "outputId": "d577c06b-dac7-45a1-b141-42b7c610d891"
      },
      "execution_count": null,
      "outputs": [
        {
          "output_type": "execute_result",
          "data": {
            "text/plain": [
              "['Fabricio Daniel', 9.5, 9.0, 10.0, True]"
            ]
          },
          "metadata": {},
          "execution_count": 1
        }
      ]
    },
    {
      "cell_type": "code",
      "source": [
        "#             [0]          [1]  [2] [3] [4]\n",
        "lista = ['fabricio Daniel',9.5,9.0,10.0,True]"
      ],
      "metadata": {
        "id": "5-BiF2YlVGah"
      },
      "execution_count": null,
      "outputs": []
    },
    {
      "cell_type": "code",
      "source": [
        "len(lista)"
      ],
      "metadata": {
        "id": "h4HTMC62VHjS",
        "colab": {
          "base_uri": "https://localhost:8080/"
        },
        "outputId": "aa45847f-5fe0-4c94-e89a-dfd8b68ed421"
      },
      "execution_count": null,
      "outputs": [
        {
          "output_type": "execute_result",
          "data": {
            "text/plain": [
              "5"
            ]
          },
          "metadata": {},
          "execution_count": 5
        }
      ]
    },
    {
      "cell_type": "code",
      "source": [
        "lista[1:4]\n"
      ],
      "metadata": {
        "colab": {
          "base_uri": "https://localhost:8080/"
        },
        "id": "U6PQssZPVoNC",
        "outputId": "7c635fbe-d130-4317-897d-df4fcac84b10"
      },
      "execution_count": null,
      "outputs": [
        {
          "output_type": "execute_result",
          "data": {
            "text/plain": [
              "[9.5, 9.0, 10.0]"
            ]
          },
          "metadata": {},
          "execution_count": 8
        }
      ]
    },
    {
      "cell_type": "code",
      "source": [
        "lista[1:3]"
      ],
      "metadata": {
        "colab": {
          "base_uri": "https://localhost:8080/"
        },
        "id": "b0xv17J4Vy6S",
        "outputId": "1f12301f-ef6e-4748-bd37-1171118a70e4"
      },
      "execution_count": null,
      "outputs": [
        {
          "output_type": "execute_result",
          "data": {
            "text/plain": [
              "[9.5, 9.0]"
            ]
          },
          "metadata": {},
          "execution_count": 9
        }
      ]
    },
    {
      "cell_type": "code",
      "source": [
        "lista[3:]"
      ],
      "metadata": {
        "colab": {
          "base_uri": "https://localhost:8080/"
        },
        "id": "ySNzoA2aWBfK",
        "outputId": "7ecc92e2-e4d5-4e2e-db9f-8017bce299f6"
      },
      "execution_count": null,
      "outputs": [
        {
          "output_type": "execute_result",
          "data": {
            "text/plain": [
              "[10.0, True]"
            ]
          },
          "metadata": {},
          "execution_count": 13
        }
      ]
    },
    {
      "cell_type": "code",
      "source": [
        "lista[:3]"
      ],
      "metadata": {
        "colab": {
          "base_uri": "https://localhost:8080/"
        },
        "id": "ezQpjRmwWMtz",
        "outputId": "8a9a4555-6539-48a5-f652-a09eca4c3c56"
      },
      "execution_count": null,
      "outputs": [
        {
          "output_type": "execute_result",
          "data": {
            "text/plain": [
              "['fabricio Daniel', 9.5, 9.0]"
            ]
          },
          "metadata": {},
          "execution_count": 14
        }
      ]
    },
    {
      "cell_type": "code",
      "source": [
        "lista[:]"
      ],
      "metadata": {
        "id": "c6bSOC62WRIZ",
        "outputId": "07cd6d02-b467-412a-ba1c-16e20e1efd56",
        "colab": {
          "base_uri": "https://localhost:8080/"
        }
      },
      "execution_count": null,
      "outputs": [
        {
          "output_type": "execute_result",
          "data": {
            "text/plain": [
              "['fabricio Daniel', 9.5, 9.0, 10.0, True]"
            ]
          },
          "metadata": {},
          "execution_count": 15
        }
      ]
    },
    {
      "cell_type": "code",
      "source": [
        "lista.append('media')\n",
        "lista\n"
      ],
      "metadata": {
        "colab": {
          "base_uri": "https://localhost:8080/"
        },
        "id": "PI-eb4yjXEvz",
        "outputId": "7401c7d6-f955-4080-fa86-5792c4dc97fb"
      },
      "execution_count": null,
      "outputs": [
        {
          "output_type": "execute_result",
          "data": {
            "text/plain": [
              "['fabricio Daniel', 9.5, 9.0, 10.0, True, 'media']"
            ]
          },
          "metadata": {},
          "execution_count": 19
        }
      ]
    },
    {
      "cell_type": "code",
      "source": [
        "lista.extend([10.0,8.0,9.0])\n",
        "lista"
      ],
      "metadata": {
        "colab": {
          "base_uri": "https://localhost:8080/"
        },
        "id": "UdBgHoMsYmZB",
        "outputId": "008d6474-661d-44e7-d7c1-ea1e5c9cc201"
      },
      "execution_count": null,
      "outputs": [
        {
          "output_type": "execute_result",
          "data": {
            "text/plain": [
              "['fabricio Daniel', 9.5, 9.0, 10.0, True, 'media', 10.0, 8.0, 9.0]"
            ]
          },
          "metadata": {},
          "execution_count": 20
        }
      ]
    },
    {
      "cell_type": "code",
      "source": [
        "lista.append([10.0,8.0,9.0])\n",
        "lista"
      ],
      "metadata": {
        "colab": {
          "base_uri": "https://localhost:8080/"
        },
        "id": "GgnPk6MGZMlE",
        "outputId": "fa7c033d-c479-4d53-870f-ac91a0b62501"
      },
      "execution_count": null,
      "outputs": [
        {
          "output_type": "execute_result",
          "data": {
            "text/plain": [
              "['fabricio Daniel',\n",
              " 9.5,\n",
              " 9.0,\n",
              " 10.0,\n",
              " True,\n",
              " 'media',\n",
              " 10.0,\n",
              " 8.0,\n",
              " 9.0,\n",
              " [10.0, 8.0, 9.0],\n",
              " [10.0, 8.0, 9.0]]"
            ]
          },
          "metadata": {},
          "execution_count": 22
        }
      ]
    },
    {
      "cell_type": "code",
      "source": [
        "lista.remove([10.0,8.0,9.0])\n",
        "lista\n"
      ],
      "metadata": {
        "colab": {
          "base_uri": "https://localhost:8080/"
        },
        "id": "RUjmRYL1aMuA",
        "outputId": "38563a7d-7b3d-4ea8-f1a2-96e73ad0bb89"
      },
      "execution_count": null,
      "outputs": [
        {
          "output_type": "execute_result",
          "data": {
            "text/plain": [
              "['fabricio Daniel', 9.5, 9.0, 10.0, True, 'media', 10.0, 8.0, 9.0]"
            ]
          },
          "metadata": {},
          "execution_count": 24
        }
      ]
    },
    {
      "cell_type": "code",
      "source": [
        "dicionario = {'chave_1':1,\n",
        "              'chave_2':2}\n",
        "dicionario"
      ],
      "metadata": {
        "colab": {
          "base_uri": "https://localhost:8080/"
        },
        "id": "guxXIm9Zb9ox",
        "outputId": "708be4e2-c1d5-4582-b955-e3dbe00ff81e"
      },
      "execution_count": null,
      "outputs": [
        {
          "output_type": "execute_result",
          "data": {
            "text/plain": [
              "{'chave_1': 1, 'chave_2': 2}"
            ]
          },
          "metadata": {},
          "execution_count": 27
        }
      ]
    },
    {
      "cell_type": "code",
      "source": [
        "cadastro = {'matricula': 2000168933,\n",
        "            'dia_cadastro': 25,\n",
        "            'mes_cadastro': 10,\n",
        "            'turma': '2E'}\n",
        "cadastro"
      ],
      "metadata": {
        "colab": {
          "base_uri": "https://localhost:8080/"
        },
        "id": "NPMyH9zPcW_V",
        "outputId": "027078cb-65cb-4b86-d9b4-9899ac8cc803"
      },
      "execution_count": null,
      "outputs": [
        {
          "output_type": "execute_result",
          "data": {
            "text/plain": [
              "{'matricula': 2000168933,\n",
              " 'dia_cadastro': 25,\n",
              " 'mes_cadastro': 10,\n",
              " 'turma': '2E'}"
            ]
          },
          "metadata": {},
          "execution_count": 28
        }
      ]
    },
    {
      "cell_type": "code",
      "source": [
        "cadastro['matricula']"
      ],
      "metadata": {
        "colab": {
          "base_uri": "https://localhost:8080/"
        },
        "id": "u4mazrXac0-c",
        "outputId": "27ad0856-12d8-480d-ebcc-3fa5a1b64561"
      },
      "execution_count": null,
      "outputs": [
        {
          "output_type": "execute_result",
          "data": {
            "text/plain": [
              "2000168933"
            ]
          },
          "metadata": {},
          "execution_count": 29
        }
      ]
    },
    {
      "cell_type": "code",
      "source": [
        "cadastro['turma']"
      ],
      "metadata": {
        "colab": {
          "base_uri": "https://localhost:8080/",
          "height": 35
        },
        "id": "aysRdNC6c58l",
        "outputId": "e83af6fe-25c6-4ec6-fc26-7bb14ef7f12d"
      },
      "execution_count": null,
      "outputs": [
        {
          "output_type": "execute_result",
          "data": {
            "text/plain": [
              "'2E'"
            ],
            "application/vnd.google.colaboratory.intrinsic+json": {
              "type": "string"
            }
          },
          "metadata": {},
          "execution_count": 30
        }
      ]
    },
    {
      "cell_type": "code",
      "source": [
        "cadastro['mes_cadastro']"
      ],
      "metadata": {
        "colab": {
          "base_uri": "https://localhost:8080/"
        },
        "id": "c4rQBvldc9VN",
        "outputId": "cea03bf0-f495-45a4-ea4b-aff9913f5529"
      },
      "execution_count": null,
      "outputs": [
        {
          "output_type": "execute_result",
          "data": {
            "text/plain": [
              "10"
            ]
          },
          "metadata": {},
          "execution_count": 32
        }
      ]
    },
    {
      "cell_type": "code",
      "source": [
        "cadastro['dia_cadastro']"
      ],
      "metadata": {
        "colab": {
          "base_uri": "https://localhost:8080/"
        },
        "id": "5zoTeTtydG6i",
        "outputId": "4ddf8d49-be7a-47c0-fb2f-13deae9d827e"
      },
      "execution_count": null,
      "outputs": [
        {
          "output_type": "execute_result",
          "data": {
            "text/plain": [
              "25"
            ]
          },
          "metadata": {},
          "execution_count": 34
        }
      ]
    },
    {
      "cell_type": "code",
      "source": [
        "cadastro['turma'] = '2G'\n",
        "cadastro"
      ],
      "metadata": {
        "colab": {
          "base_uri": "https://localhost:8080/"
        },
        "id": "Gz8OaDfAdQKM",
        "outputId": "e8faf772-a30e-4ab2-c9dd-4526501cc60e"
      },
      "execution_count": null,
      "outputs": [
        {
          "output_type": "execute_result",
          "data": {
            "text/plain": [
              "{'matricula': 2000168933,\n",
              " 'dia_cadastro': 25,\n",
              " 'mes_cadastro': 10,\n",
              " 'turma': '2G'}"
            ]
          },
          "metadata": {},
          "execution_count": 35
        }
      ]
    },
    {
      "cell_type": "code",
      "source": [
        "cadastro['modalidade'] = 'EAD'\n",
        "cadastro"
      ],
      "metadata": {
        "colab": {
          "base_uri": "https://localhost:8080/"
        },
        "id": "ol0zqoLXdYVX",
        "outputId": "2286231e-1a6c-499d-e7ca-ad40d53d6762"
      },
      "execution_count": null,
      "outputs": [
        {
          "output_type": "execute_result",
          "data": {
            "text/plain": [
              "{'matricula': 2000168933,\n",
              " 'dia_cadastro': 25,\n",
              " 'mes_cadastro': 10,\n",
              " 'turma': '2G',\n",
              " 'modalidade': 'EAD'}"
            ]
          },
          "metadata": {},
          "execution_count": 36
        }
      ]
    },
    {
      "cell_type": "code",
      "source": [
        "cadastro.pop('turma')"
      ],
      "metadata": {
        "colab": {
          "base_uri": "https://localhost:8080/",
          "height": 35
        },
        "id": "JgE5Ur3PhAY8",
        "outputId": "08d5e32a-cac0-475a-fa19-6b01596e40a8"
      },
      "execution_count": null,
      "outputs": [
        {
          "output_type": "execute_result",
          "data": {
            "text/plain": [
              "'2G'"
            ],
            "application/vnd.google.colaboratory.intrinsic+json": {
              "type": "string"
            }
          },
          "metadata": {},
          "execution_count": 37
        }
      ]
    },
    {
      "cell_type": "code",
      "source": [
        "cadastro"
      ],
      "metadata": {
        "colab": {
          "base_uri": "https://localhost:8080/"
        },
        "id": "I5FCHbq3hGlR",
        "outputId": "bb23ce47-7262-4c0f-d2bb-f72cae5ba0a1"
      },
      "execution_count": null,
      "outputs": [
        {
          "output_type": "execute_result",
          "data": {
            "text/plain": [
              "{'matricula': 2000168933,\n",
              " 'dia_cadastro': 25,\n",
              " 'mes_cadastro': 10,\n",
              " 'modalidade': 'EAD'}"
            ]
          },
          "metadata": {},
          "execution_count": 38
        }
      ]
    },
    {
      "cell_type": "code",
      "source": [
        "cadastro.items()\n"
      ],
      "metadata": {
        "colab": {
          "base_uri": "https://localhost:8080/"
        },
        "id": "1h4yEYXxiH38",
        "outputId": "04be4880-eeb3-42cc-fca2-c89870abe741"
      },
      "execution_count": null,
      "outputs": [
        {
          "output_type": "execute_result",
          "data": {
            "text/plain": [
              "dict_items([('matricula', 2000168933), ('dia_cadastro', 25), ('mes_cadastro', 10), ('modalidade', 'EAD')])"
            ]
          },
          "metadata": {},
          "execution_count": 39
        }
      ]
    },
    {
      "cell_type": "code",
      "source": [
        "cadastro.keys()"
      ],
      "metadata": {
        "colab": {
          "base_uri": "https://localhost:8080/"
        },
        "id": "kRipqnZMi0PD",
        "outputId": "553fbe77-22cb-446a-c761-a3e6b7455bbf"
      },
      "execution_count": null,
      "outputs": [
        {
          "output_type": "execute_result",
          "data": {
            "text/plain": [
              "dict_keys(['matricula', 'dia_cadastro', 'mes_cadastro', 'modalidade'])"
            ]
          },
          "metadata": {},
          "execution_count": 40
        }
      ]
    },
    {
      "cell_type": "code",
      "source": [
        "cadastro.values()"
      ],
      "metadata": {
        "colab": {
          "base_uri": "https://localhost:8080/"
        },
        "id": "GgtdGL63jImz",
        "outputId": "82123cb4-0e2c-4db1-cfd1-6863d2d41479"
      },
      "execution_count": null,
      "outputs": [
        {
          "output_type": "execute_result",
          "data": {
            "text/plain": [
              "dict_values([2000168933, 25, 10, 'EAD'])"
            ]
          },
          "metadata": {},
          "execution_count": 41
        }
      ]
    },
    {
      "cell_type": "code",
      "source": [
        "for chaves in cadastro.keys():\n",
        " print(cadastro[chaves])\n"
      ],
      "metadata": {
        "colab": {
          "base_uri": "https://localhost:8080/"
        },
        "id": "xPz-2riykJMZ",
        "outputId": "81aae6fb-e3ea-42d6-e77b-fcd6348f17bb"
      },
      "execution_count": null,
      "outputs": [
        {
          "output_type": "stream",
          "name": "stdout",
          "text": [
            "2000168933\n",
            "25\n",
            "10\n",
            "EAD\n"
          ]
        }
      ]
    },
    {
      "cell_type": "code",
      "source": [
        "for valores in cadastro.values():\n",
        " print(valores)"
      ],
      "metadata": {
        "colab": {
          "base_uri": "https://localhost:8080/"
        },
        "id": "LSJ4dG1NktbX",
        "outputId": "c6143d34-c6c5-4168-d379-8b91e939a3cf"
      },
      "execution_count": null,
      "outputs": [
        {
          "output_type": "stream",
          "name": "stdout",
          "text": [
            "2000168933\n",
            "25\n",
            "10\n",
            "EAD\n"
          ]
        }
      ]
    },
    {
      "cell_type": "code",
      "source": [
        "for chaves, valores in cadastro.items():\n",
        " print(chaves,valores)\n"
      ],
      "metadata": {
        "colab": {
          "base_uri": "https://localhost:8080/"
        },
        "id": "KtID1a8slTyz",
        "outputId": "6d7e7ce2-92e0-4760-9071-6964fc174f60"
      },
      "execution_count": null,
      "outputs": [
        {
          "output_type": "stream",
          "name": "stdout",
          "text": [
            "matricula 2000168933\n",
            "dia_cadastro 25\n",
            "mes_cadastro 10\n",
            "modalidade EAD\n"
          ]
        }
      ]
    },
    {
      "cell_type": "code",
      "source": [
        "help(print)"
      ],
      "metadata": {
        "colab": {
          "base_uri": "https://localhost:8080/"
        },
        "id": "loNhi_YumSqc",
        "outputId": "12a4706c-450a-4b6e-ad4c-1b3462fdfcb9"
      },
      "execution_count": null,
      "outputs": [
        {
          "output_type": "stream",
          "name": "stdout",
          "text": [
            "Help on built-in function print in module builtins:\n",
            "\n",
            "print(*args, sep=' ', end='\\n', file=None, flush=False)\n",
            "    Prints the values to a stream, or to sys.stdout by default.\n",
            "    \n",
            "    sep\n",
            "      string inserted between values, default a space.\n",
            "    end\n",
            "      string appended after the last value, default a newline.\n",
            "    file\n",
            "      a file-like object (stream); defaults to the current sys.stdout.\n",
            "    flush\n",
            "      whether to forcibly flush the stream.\n",
            "\n"
          ]
        }
      ]
    },
    {
      "cell_type": "code",
      "source": [
        "precos = [100.0, 400.0, 200.0]\n",
        "soma = sum(precos)\n",
        "soma"
      ],
      "metadata": {
        "colab": {
          "base_uri": "https://localhost:8080/"
        },
        "id": "KU6Bc2v0mYHo",
        "outputId": "b7bf46c0-215c-42ec-ab53-5d864199bc85"
      },
      "execution_count": null,
      "outputs": [
        {
          "output_type": "execute_result",
          "data": {
            "text/plain": [
              "700.0"
            ]
          },
          "metadata": {},
          "execution_count": 47
        }
      ]
    },
    {
      "cell_type": "code",
      "source": [
        "lista = [1,2,3]\n",
        "dir(lista)\n"
      ],
      "metadata": {
        "colab": {
          "base_uri": "https://localhost:8080/"
        },
        "id": "wXogkNxrmeDQ",
        "outputId": "9fd47486-0d39-47b1-dac0-a973570c9bb8"
      },
      "execution_count": null,
      "outputs": [
        {
          "output_type": "execute_result",
          "data": {
            "text/plain": [
              "['__add__',\n",
              " '__class__',\n",
              " '__class_getitem__',\n",
              " '__contains__',\n",
              " '__delattr__',\n",
              " '__delitem__',\n",
              " '__dir__',\n",
              " '__doc__',\n",
              " '__eq__',\n",
              " '__format__',\n",
              " '__ge__',\n",
              " '__getattribute__',\n",
              " '__getitem__',\n",
              " '__getstate__',\n",
              " '__gt__',\n",
              " '__hash__',\n",
              " '__iadd__',\n",
              " '__imul__',\n",
              " '__init__',\n",
              " '__init_subclass__',\n",
              " '__iter__',\n",
              " '__le__',\n",
              " '__len__',\n",
              " '__lt__',\n",
              " '__mul__',\n",
              " '__ne__',\n",
              " '__new__',\n",
              " '__reduce__',\n",
              " '__reduce_ex__',\n",
              " '__repr__',\n",
              " '__reversed__',\n",
              " '__rmul__',\n",
              " '__setattr__',\n",
              " '__setitem__',\n",
              " '__sizeof__',\n",
              " '__str__',\n",
              " '__subclasshook__',\n",
              " 'append',\n",
              " 'clear',\n",
              " 'copy',\n",
              " 'count',\n",
              " 'extend',\n",
              " 'index',\n",
              " 'insert',\n",
              " 'pop',\n",
              " 'remove',\n",
              " 'reverse',\n",
              " 'sort']"
            ]
          },
          "metadata": {},
          "execution_count": 48
        }
      ]
    },
    {
      "cell_type": "code",
      "source": [
        "#notas do(a) estudantes\n",
        "notas=[8.5,8.0,6.0,10.0]"
      ],
      "metadata": {
        "id": "8ovTsktA_AXE"
      },
      "execution_count": null,
      "outputs": []
    },
    {
      "cell_type": "code",
      "source": [
        "def media(lista):\n",
        "  calculo = sum(lista) / len(lista)\n",
        "  return calculo"
      ],
      "metadata": {
        "id": "MtLqQrWN_SYu"
      },
      "execution_count": null,
      "outputs": []
    },
    {
      "cell_type": "code",
      "source": [
        "resultado = media(notas)\n"
      ],
      "metadata": {
        "id": "oYX9QrSW_7ZQ"
      },
      "execution_count": null,
      "outputs": []
    },
    {
      "cell_type": "code",
      "source": [
        "resultado"
      ],
      "metadata": {
        "colab": {
          "base_uri": "https://localhost:8080/"
        },
        "id": "n_6kazwL__0r",
        "outputId": "654959cd-963e-4e9e-ceb0-85115d28ce3c"
      },
      "execution_count": null,
      "outputs": [
        {
          "output_type": "execute_result",
          "data": {
            "text/plain": [
              "8.125"
            ]
          },
          "metadata": {},
          "execution_count": 6
        }
      ]
    },
    {
      "cell_type": "code",
      "source": [
        "def boletim(lista):\n",
        "  media = sum(lista) / len(lista)\n",
        "  if media >=6:\n",
        "    situação = \"Aprovado(a)\"\n",
        "\n",
        "  else:\n",
        "   situação = \"Reprovado(a)\"\n",
        "\n",
        "  return (media,situação)"
      ],
      "metadata": {
        "id": "-fLAXY1AAfnn"
      },
      "execution_count": null,
      "outputs": []
    },
    {
      "cell_type": "code",
      "source": [
        "boletim(notas)"
      ],
      "metadata": {
        "colab": {
          "base_uri": "https://localhost:8080/"
        },
        "id": "WgU9m1eOCDlb",
        "outputId": "fac2f6e4-9ce7-4609-faeb-42eaaa850d82"
      },
      "execution_count": null,
      "outputs": [
        {
          "output_type": "execute_result",
          "data": {
            "text/plain": [
              "(8.125, 'Aprovado(a)')"
            ]
          },
          "metadata": {},
          "execution_count": 15
        }
      ]
    },
    {
      "cell_type": "code",
      "source": [
        "media,situação = boletim(notas)"
      ],
      "metadata": {
        "id": "PZNQGWrtDtv9"
      },
      "execution_count": null,
      "outputs": []
    },
    {
      "cell_type": "code",
      "source": [
        "media"
      ],
      "metadata": {
        "colab": {
          "base_uri": "https://localhost:8080/"
        },
        "id": "bbEtuoxcD2J1",
        "outputId": "7719f972-c4cf-4598-b391-d354bb40d91c"
      },
      "execution_count": null,
      "outputs": [
        {
          "output_type": "execute_result",
          "data": {
            "text/plain": [
              "8.125"
            ]
          },
          "metadata": {},
          "execution_count": 17
        }
      ]
    },
    {
      "cell_type": "code",
      "source": [
        "situação"
      ],
      "metadata": {
        "colab": {
          "base_uri": "https://localhost:8080/",
          "height": 35
        },
        "id": "e2_INxi_D5mU",
        "outputId": "a193af83-5706-4dce-eee0-1909094f58df"
      },
      "execution_count": null,
      "outputs": [
        {
          "output_type": "execute_result",
          "data": {
            "text/plain": [
              "'Aprovado(a)'"
            ],
            "application/vnd.google.colaboratory.intrinsic+json": {
              "type": "string"
            }
          },
          "metadata": {},
          "execution_count": 18
        }
      ]
    },
    {
      "cell_type": "code",
      "source": [
        "print(f'O(a) estudante atingiu uma média de {media} e foi {situação}.')"
      ],
      "metadata": {
        "colab": {
          "base_uri": "https://localhost:8080/"
        },
        "id": "uxCnRwwtD-7D",
        "outputId": "935eef18-3f9b-4ea9-8fc0-aeaa00176cdf"
      },
      "execution_count": null,
      "outputs": [
        {
          "output_type": "stream",
          "name": "stdout",
          "text": [
            "O(a) estudante atingiu uma média de 8.125 e foi Aprovado(a).\n"
          ]
        }
      ]
    },
    {
      "cell_type": "code",
      "source": [
        "#Comparando uma função de qualitativo no formado de função  para função anonima\n",
        "nota = float(input(\"Digite a nota do(a) estudante: \"))\n",
        "\n",
        "def qualitativo(x):\n",
        "  return x + 0.5\n",
        "\n",
        "  qualitativo (nota)"
      ],
      "metadata": {
        "colab": {
          "base_uri": "https://localhost:8080/"
        },
        "id": "VcUf2wbTFQIi",
        "outputId": "41b77dae-0f25-4df2-b06f-044ea1a76682"
      },
      "execution_count": null,
      "outputs": [
        {
          "name": "stdout",
          "output_type": "stream",
          "text": [
            "Digite a nota do(a) estudante: 8\n"
          ]
        }
      ]
    },
    {
      "cell_type": "code",
      "source": [
        "#Testando a mesma função para uma função lambda\n",
        "nota = float(input(\"Digite a nota do(a) estudante:\"))\n",
        "\n",
        "qualitativo = lambda x: x + 0.5\n",
        "\n",
        "qualitativo(nota)"
      ],
      "metadata": {
        "colab": {
          "base_uri": "https://localhost:8080/"
        },
        "id": "g2MgHmgUGm07",
        "outputId": "69e3eb5d-6bb3-4e8e-ddf7-5143cceb81b3"
      },
      "execution_count": null,
      "outputs": [
        {
          "name": "stdout",
          "output_type": "stream",
          "text": [
            "Digite a nota do(a) estudante:8\n"
          ]
        },
        {
          "output_type": "execute_result",
          "data": {
            "text/plain": [
              "8.5"
            ]
          },
          "metadata": {},
          "execution_count": 30
        }
      ]
    },
    {
      "cell_type": "code",
      "source": [
        "#Recebendo as notas e calculando a média poderavel\n",
        "N1 = float(input(\"Digite a 1° nota do(a) estudante:\"))\n",
        "N2 = float(input(\"Digite a 2° nota do(a) estudante:\"))\n",
        "N3 = float(input(\"Digite a 3° nota do(a) estudante:\"))\n",
        "\n",
        "media_ponderavel = lambda x,y,z: (x* 3 + y * 2 + z * 5)/10\n",
        "media_estudante = media_ponderavel(N1,N2,N3)\n",
        "media_estudante\n",
        "\n"
      ],
      "metadata": {
        "colab": {
          "base_uri": "https://localhost:8080/"
        },
        "id": "hLbTbalpHIFX",
        "outputId": "94710444-d1dc-4990-91a0-c5e85f6961df"
      },
      "execution_count": null,
      "outputs": [
        {
          "name": "stdout",
          "output_type": "stream",
          "text": [
            "Digite a 1° nota do(a) estudante:8\n",
            "Digite a 2° nota do(a) estudante:5\n",
            "Digite a 3° nota do(a) estudante:9\n"
          ]
        },
        {
          "output_type": "execute_result",
          "data": {
            "text/plain": [
              "7.9"
            ]
          },
          "metadata": {},
          "execution_count": 34
        }
      ]
    },
    {
      "cell_type": "code",
      "source": [
        "#Exibindo a media\n",
        "print(f'O(a) estudante atingiu uma media de {media_estudante}')"
      ],
      "metadata": {
        "colab": {
          "base_uri": "https://localhost:8080/"
        },
        "id": "UNdrcZobIWcv",
        "outputId": "17544d29-2bfe-4415-c2bb-370c388d5cb6"
      },
      "execution_count": null,
      "outputs": [
        {
          "output_type": "stream",
          "name": "stdout",
          "text": [
            "O(a) estudante atingiu uma media de 7.9\n"
          ]
        }
      ]
    },
    {
      "cell_type": "code",
      "source": [
        "#Notas do(a) estudante\n",
        "notas = [6.0,7.0,9.0,5.5,8.0]\n",
        "qualitativo = 0.5\n"
      ],
      "metadata": {
        "id": "RhDqKnkHJe6_"
      },
      "execution_count": null,
      "outputs": []
    },
    {
      "cell_type": "code",
      "source": [
        "notas_atualizadas = lambda x: x + qualitativo\n",
        "notas_atualizadas(notas)"
      ],
      "metadata": {
        "colab": {
          "base_uri": "https://localhost:8080/",
          "height": 228
        },
        "id": "qBDyUajyJy3O",
        "outputId": "6ca32c36-49b1-49f8-8202-ea94dcb7acf6"
      },
      "execution_count": null,
      "outputs": [
        {
          "output_type": "error",
          "ename": "TypeError",
          "evalue": "can only concatenate list (not \"float\") to list",
          "traceback": [
            "\u001b[0;31m---------------------------------------------------------------------------\u001b[0m",
            "\u001b[0;31mTypeError\u001b[0m                                 Traceback (most recent call last)",
            "\u001b[0;32m<ipython-input-37-642e9618656c>\u001b[0m in \u001b[0;36m<cell line: 0>\u001b[0;34m()\u001b[0m\n\u001b[1;32m      1\u001b[0m \u001b[0mnotas_atualizadas\u001b[0m \u001b[0;34m=\u001b[0m \u001b[0;32mlambda\u001b[0m \u001b[0mx\u001b[0m\u001b[0;34m:\u001b[0m \u001b[0mx\u001b[0m \u001b[0;34m+\u001b[0m \u001b[0mqualitativo\u001b[0m\u001b[0;34m\u001b[0m\u001b[0;34m\u001b[0m\u001b[0m\n\u001b[0;32m----> 2\u001b[0;31m \u001b[0mnotas_atualizadas\u001b[0m \u001b[0;34m(\u001b[0m\u001b[0mnotas\u001b[0m\u001b[0;34m)\u001b[0m\u001b[0;34m\u001b[0m\u001b[0;34m\u001b[0m\u001b[0m\n\u001b[0m",
            "\u001b[0;32m<ipython-input-37-642e9618656c>\u001b[0m in \u001b[0;36m<lambda>\u001b[0;34m(x)\u001b[0m\n\u001b[0;32m----> 1\u001b[0;31m \u001b[0mnotas_atualizadas\u001b[0m \u001b[0;34m=\u001b[0m \u001b[0;32mlambda\u001b[0m \u001b[0mx\u001b[0m\u001b[0;34m:\u001b[0m \u001b[0mx\u001b[0m \u001b[0;34m+\u001b[0m \u001b[0mqualitativo\u001b[0m\u001b[0;34m\u001b[0m\u001b[0;34m\u001b[0m\u001b[0m\n\u001b[0m\u001b[1;32m      2\u001b[0m \u001b[0mnotas_atualizadas\u001b[0m \u001b[0;34m(\u001b[0m\u001b[0mnotas\u001b[0m\u001b[0;34m)\u001b[0m\u001b[0;34m\u001b[0m\u001b[0;34m\u001b[0m\u001b[0m\n",
            "\u001b[0;31mTypeError\u001b[0m: can only concatenate list (not \"float\") to list"
          ]
        }
      ]
    },
    {
      "cell_type": "code",
      "source": [
        "#Não conseguimos aplicar o lambda em listad direto, é necessario\n",
        "#Utiilizarmos junto a ela a função map\n",
        "notas_atualizadas = map(lambda x: x + qualitativo, notas)\n",
        "notas_atualizadas"
      ],
      "metadata": {
        "colab": {
          "base_uri": "https://localhost:8080/"
        },
        "id": "ol3e7bVwKQht",
        "outputId": "4c33dce3-37ad-4161-869a-55e1c8deac62"
      },
      "execution_count": null,
      "outputs": [
        {
          "output_type": "execute_result",
          "data": {
            "text/plain": [
              "<map at 0x79e092140f10>"
            ]
          },
          "metadata": {},
          "execution_count": 39
        }
      ]
    },
    {
      "cell_type": "code",
      "source": [
        "notas_atualizadas = list(notas_atualizadas)\n"
      ],
      "metadata": {
        "id": "HiqabP0aKu7f"
      },
      "execution_count": null,
      "outputs": []
    },
    {
      "cell_type": "code",
      "source": [
        "notas_atualizadas"
      ],
      "metadata": {
        "colab": {
          "base_uri": "https://localhost:8080/",
          "height": 141
        },
        "id": "ks7Pl--QK37r",
        "outputId": "21f0b095-a643-4c9c-9673-d125a4aa1f8a"
      },
      "execution_count": null,
      "outputs": [
        {
          "output_type": "error",
          "ename": "NameError",
          "evalue": "name 'notas_atualizadas' is not defined",
          "traceback": [
            "\u001b[0;31m---------------------------------------------------------------------------\u001b[0m",
            "\u001b[0;31mNameError\u001b[0m                                 Traceback (most recent call last)",
            "\u001b[0;32m<ipython-input-58-7408aa67cee1>\u001b[0m in \u001b[0;36m<cell line: 0>\u001b[0;34m()\u001b[0m\n\u001b[0;32m----> 1\u001b[0;31m \u001b[0mnotas_atualizadas\u001b[0m\u001b[0;34m\u001b[0m\u001b[0;34m\u001b[0m\u001b[0m\n\u001b[0m",
            "\u001b[0;31mNameError\u001b[0m: name 'notas_atualizadas' is not defined"
          ]
        }
      ]
    },
    {
      "cell_type": "code",
      "source": [],
      "metadata": {
        "id": "V9tJF9lBnm4D"
      },
      "execution_count": null,
      "outputs": []
    },
    {
      "cell_type": "code",
      "source": [
        "notas"
      ],
      "metadata": {
        "colab": {
          "base_uri": "https://localhost:8080/"
        },
        "id": "qRWD4BO9K6w9",
        "outputId": "cd78fdd2-e3fc-492a-8d9a-f954e44ca220"
      },
      "execution_count": null,
      "outputs": [
        {
          "output_type": "execute_result",
          "data": {
            "text/plain": [
              "[]"
            ]
          },
          "metadata": {},
          "execution_count": 59
        }
      ]
    },
    {
      "cell_type": "code",
      "source": [
        "notas_turma = ['João', 8.0, 9.0, 10.0, 'Maria', 9.0, 7.0, 6.0, 'José', 3.4, 7.0, 7.0, 'Cláudia', 5.5, 6.6, 8.0, 'Ana', 6.0, 10.0, 9.5]"
      ],
      "metadata": {
        "id": "GYpKtN7vna9v"
      },
      "execution_count": null,
      "outputs": []
    },
    {
      "cell_type": "code",
      "source": [
        "nomes = []\n",
        "nomes = []\n",
        "notas_juntas = []\n",
        "\n",
        "for i in range(len(notas_turma)):\n",
        "  pass"
      ],
      "metadata": {
        "id": "u8jH-Cmcnqlk"
      },
      "execution_count": null,
      "outputs": []
    },
    {
      "cell_type": "code",
      "source": [
        "nomes = []\n",
        "notas_juntas = []\n",
        "\n",
        "for i in range(len(notas_turma)):\n",
        "  if i % 4 ==0:\n",
        "     nomes.append(notas_turma[i])"
      ],
      "metadata": {
        "id": "0DGS3-H2nxnL"
      },
      "execution_count": null,
      "outputs": []
    },
    {
      "cell_type": "code",
      "source": [
        "nomes = []\n",
        "notas_juntas = []\n",
        "\n",
        "for i in range(len(notas_turma)):\n",
        "  if i % 4 ==0:\n",
        "      nomes.append(notas_turma[i])\n",
        "  else:\n",
        "      notas_juntas.append(notas_turma[i])"
      ],
      "metadata": {
        "id": "tRazsn6NnzlZ"
      },
      "execution_count": null,
      "outputs": []
    },
    {
      "cell_type": "code",
      "source": [
        "nomes"
      ],
      "metadata": {
        "colab": {
          "base_uri": "https://localhost:8080/"
        },
        "id": "vqUtWue3n-T2",
        "outputId": "d89af0a5-591f-4364-a968-df079dad1048"
      },
      "execution_count": null,
      "outputs": [
        {
          "output_type": "execute_result",
          "data": {
            "text/plain": [
              "['João', 'Maria', 'José', 'Claudia', 'Ana']"
            ]
          },
          "metadata": {},
          "execution_count": 64
        }
      ]
    },
    {
      "cell_type": "code",
      "source": [
        "notas_juntas"
      ],
      "metadata": {
        "colab": {
          "base_uri": "https://localhost:8080/"
        },
        "id": "2tXCgqDNn_yn",
        "outputId": "24f4aea2-092d-4cbc-f460-cff7c59c1d40"
      },
      "execution_count": null,
      "outputs": [
        {
          "output_type": "execute_result",
          "data": {
            "text/plain": [
              "[8.0, 9.0, 10.0, 9.0, 7.0, 6.0, 3.4, 7.0, 7.0, 5.5, 6.6, 8.0, 6.0, 10.0, 9.5]"
            ]
          },
          "metadata": {},
          "execution_count": 65
        }
      ]
    },
    {
      "cell_type": "code",
      "source": [
        "notas = []\n",
        "\n",
        "for i in range(0, len(notas_juntas),3):\n",
        "  notas.append([notas_juntas[i], notas_juntas[i+1], notas_juntas[i+2]])\n",
        "notas"
      ],
      "metadata": {
        "colab": {
          "base_uri": "https://localhost:8080/"
        },
        "id": "qUrCNmdSoDVl",
        "outputId": "6b44c998-790d-4a70-d77c-4166f6f2f290"
      },
      "execution_count": null,
      "outputs": [
        {
          "output_type": "execute_result",
          "data": {
            "text/plain": [
              "[[8.0, 9.0, 10.0],\n",
              " [9.0, 7.0, 6.0],\n",
              " [3.4, 7.0, 7.0],\n",
              " [5.5, 6.6, 8.0],\n",
              " [6.0, 10.0, 9.5]]"
            ]
          },
          "metadata": {},
          "execution_count": 68
        }
      ]
    },
    {
      "cell_type": "code",
      "source": [
        "notas[0]"
      ],
      "metadata": {
        "colab": {
          "base_uri": "https://localhost:8080/"
        },
        "id": "iN5_vZa_oV2e",
        "outputId": "50914e3a-f8d9-40de-9576-83fcb7ca0da4"
      },
      "execution_count": null,
      "outputs": [
        {
          "output_type": "execute_result",
          "data": {
            "text/plain": [
              "[8.0, 9.0, 10.0]"
            ]
          },
          "metadata": {},
          "execution_count": 69
        }
      ]
    },
    {
      "cell_type": "code",
      "source": [
        "notas[0][2]"
      ],
      "metadata": {
        "colab": {
          "base_uri": "https://localhost:8080/"
        },
        "id": "fcTnvgSMq5Cq",
        "outputId": "b9c59eb6-6a5b-453c-e888-19ea0e12d3f0"
      },
      "execution_count": null,
      "outputs": [
        {
          "output_type": "execute_result",
          "data": {
            "text/plain": [
              "10.0"
            ]
          },
          "metadata": {},
          "execution_count": 70
        }
      ]
    },
    {
      "cell_type": "code",
      "source": [
        "cadastro = (\"Júlia\", 23, \"São Paulo\", \"SP\", \"Python para DS 1\")"
      ],
      "metadata": {
        "id": "wtHyFY58yAHv"
      },
      "execution_count": null,
      "outputs": []
    },
    {
      "cell_type": "code",
      "source": [
        "print(cadastro[0]) # imprime Júlia\n",
        "print(cadastro[-1]) # imprime Python para DS 1"
      ],
      "metadata": {
        "colab": {
          "base_uri": "https://localhost:8080/"
        },
        "id": "XOGaZfAQyFW1",
        "outputId": "067b126e-eeee-4a31-b47a-f0a29b24267d"
      },
      "execution_count": null,
      "outputs": [
        {
          "output_type": "stream",
          "name": "stdout",
          "text": [
            "Júlia\n",
            "Python para DS 1\n"
          ]
        }
      ]
    },
    {
      "cell_type": "markdown",
      "source": [],
      "metadata": {
        "id": "Hgm9EelOyPWc"
      }
    },
    {
      "cell_type": "code",
      "source": [
        "nome, idade, cidade, estado, turma = cadastro\n",
        "print(f'A estudante {nome} tem {idade} anos e mora em {cidade}. Ela está matriculada na turma de {turma}.')"
      ],
      "metadata": {
        "colab": {
          "base_uri": "https://localhost:8080/"
        },
        "id": "Fc_EhZB6yIVx",
        "outputId": "41875302-d883-450e-e4fe-a4a62e38fb06"
      },
      "execution_count": null,
      "outputs": [
        {
          "output_type": "stream",
          "name": "stdout",
          "text": [
            "A estudante Júlia tem 23 anos e mora em São Paulo. Ela está matriculada na turma de Python para DS 1.\n"
          ]
        }
      ]
    },
    {
      "cell_type": "code",
      "source": [
        "estudantes = [\"João\",\"Maria\",\"José\",\"Claudia\",\"Ana\"]\n",
        "estudantes"
      ],
      "metadata": {
        "colab": {
          "base_uri": "https://localhost:8080/"
        },
        "id": "gWWMYWJmzphD",
        "outputId": "4e6a6634-adb9-4c87-f668-4f7508cb9422"
      },
      "execution_count": null,
      "outputs": [
        {
          "output_type": "execute_result",
          "data": {
            "text/plain": [
              "['João', 'Maria', 'José', 'Claudia', 'Ana']"
            ]
          },
          "metadata": {},
          "execution_count": 79
        }
      ]
    },
    {
      "cell_type": "code",
      "source": [
        "from random import randint\n",
        "\n",
        "def gera_codigo():\n",
        "  return str(randint(0,999))"
      ],
      "metadata": {
        "id": "15MoD2fV0LQu"
      },
      "execution_count": null,
      "outputs": []
    },
    {
      "cell_type": "code",
      "source": [
        "codigo_estudantes = []\n",
        "\n",
        "for i in range(len(estudantes)):\n",
        "  codigo_estudantes.append((estudantes[i], estudantes[i][0] + gera_codigo()))\n",
        "codigo_estudantes"
      ],
      "metadata": {
        "colab": {
          "base_uri": "https://localhost:8080/"
        },
        "id": "zv_mgpwL0Qfi",
        "outputId": "0dc01a63-fbf2-4c44-ecd2-865439f95116"
      },
      "execution_count": null,
      "outputs": [
        {
          "output_type": "execute_result",
          "data": {
            "text/plain": [
              "[('João', 'J561'),\n",
              " ('Maria', 'M13'),\n",
              " ('José', 'J302'),\n",
              " ('Claudia', 'C519'),\n",
              " ('Ana', 'A483')]"
            ]
          },
          "metadata": {},
          "execution_count": 103
        }
      ]
    },
    {
      "cell_type": "markdown",
      "source": [
        "listas de listas,cada uma delas vai conter tres elementos"
      ],
      "metadata": {
        "id": "vxyExOvfRSnP"
      }
    },
    {
      "cell_type": "code",
      "source": [
        "notas = [[8.0,9.0,10.0],[9.0,7.0,6.0],[3.4,7.0,7.0],[5.5,6.6,8.0],[6.0,10.0,9.5]]"
      ],
      "metadata": {
        "id": "DXoIndCbRS2a"
      },
      "execution_count": null,
      "outputs": []
    },
    {
      "cell_type": "code",
      "source": [
        "def media(lista: list=[0]) -> float:\n",
        "  ''' Função para calcular a média de notas passadas por uma lista\n",
        "\n",
        "  lista: list, default [0]\n",
        "    Lista com as notas para calcular a média\n",
        "  return = calculo: float\n",
        "    Média calculada\n",
        "  '''\n",
        "\n",
        "  calculo = sum(lista) / len(lista)\n",
        "\n",
        "  return calculo"
      ],
      "metadata": {
        "id": "ECeG4h8fTmef"
      },
      "execution_count": null,
      "outputs": []
    },
    {
      "cell_type": "code",
      "source": [
        "media = [round(media(nota),1) for nota  in notas]\n",
        "media"
      ],
      "metadata": {
        "colab": {
          "base_uri": "https://localhost:8080/"
        },
        "id": "re7pk1z1Tws_",
        "outputId": "09492810-4d74-443d-9ecc-3e7d5810ebda"
      },
      "execution_count": null,
      "outputs": [
        {
          "output_type": "execute_result",
          "data": {
            "text/plain": [
              "[9.0, 7.3, 5.8, 6.7, 8.5]"
            ]
          },
          "metadata": {},
          "execution_count": 27
        }
      ]
    },
    {
      "cell_type": "markdown",
      "source": [
        "Agora precisamos utilizar as medias calculadas no exemplo anterior,pareando com os nomes dos estudantes,isto irá gerar uma lista que selecione aqueles estudantes que possuam uma media final maior ou igual a 8npara concorrer a uma bolsa para o proximo no letivo.OS dados recebidos correspondem a uma lista de tuplas com os noes e codigos dos estudantes e a lista das medias calculadas logio acima.."
      ],
      "metadata": {
        "id": "A_mmCp9ZUXyc"
      }
    },
    {
      "cell_type": "code",
      "source": [
        "nomes = [('João', 'J561'),('Maria', 'M13'),('José', 'J302'),('Claudia', 'C519'),('Ana', 'A483')]\n",
        "medias= [9.0, 7.3 , 5.8, 6.7, 8.5]"
      ],
      "metadata": {
        "id": "yQN7zdFjU6dd"
      },
      "execution_count": null,
      "outputs": []
    },
    {
      "cell_type": "code",
      "source": [
        "#Gerando a lista de nomes(extraindo da tupla)\n",
        "nomes = [nome[0] for nome in nomes]\n",
        "nomes"
      ],
      "metadata": {
        "colab": {
          "base_uri": "https://localhost:8080/"
        },
        "id": "HiHPd7BVV9Mu",
        "outputId": "e6e3e9dd-1351-4b24-9eb8-6b8b37901eb5"
      },
      "execution_count": null,
      "outputs": [
        {
          "output_type": "execute_result",
          "data": {
            "text/plain": [
              "['João', 'Maria', 'José', 'Claudia', 'Ana']"
            ]
          },
          "metadata": {},
          "execution_count": 30
        }
      ]
    },
    {
      "cell_type": "markdown",
      "source": [],
      "metadata": {
        "id": "HZIflkFbRMQD"
      }
    },
    {
      "cell_type": "markdown",
      "source": [
        "Para conseguirmos parear as medias e nomes facilmente,podemos recorrer a mais uma built-in function: zip()"
      ],
      "metadata": {
        "id": "2h8uEYzfXdhX"
      }
    },
    {
      "cell_type": "code",
      "source": [
        "estudantes = list(zip(nomes,medias))\n",
        "estudantes"
      ],
      "metadata": {
        "colab": {
          "base_uri": "https://localhost:8080/"
        },
        "id": "q5tpW95WXtJg",
        "outputId": "e4895338-4ff1-4470-fdd7-1ae33361608f"
      },
      "execution_count": null,
      "outputs": [
        {
          "output_type": "execute_result",
          "data": {
            "text/plain": [
              "[('João', 9.0), ('Maria', 7.3), ('José', 5.8), ('Claudia', 6.7), ('Ana', 8.5)]"
            ]
          },
          "metadata": {},
          "execution_count": 34
        }
      ]
    },
    {
      "cell_type": "markdown",
      "source": [],
      "metadata": {
        "id": "UBN_jy50YCD7"
      }
    },
    {
      "cell_type": "code",
      "source": [
        "#Gerando a lista de pessoas candidatas a bolsa\n",
        "candidatos = [estudante[0] for estudante in  estudantes if estudante[1] >=8.0]\n",
        "candidatos"
      ],
      "metadata": {
        "colab": {
          "base_uri": "https://localhost:8080/"
        },
        "id": "aJYTe4L6X4Xt",
        "outputId": "66e2e092-7309-49ba-bbe2-e3efb83ddc7b"
      },
      "execution_count": null,
      "outputs": [
        {
          "output_type": "execute_result",
          "data": {
            "text/plain": [
              "['João', 'Ana']"
            ]
          },
          "metadata": {},
          "execution_count": 35
        }
      ]
    },
    {
      "cell_type": "markdown",
      "source": [
        "Criar uma lista da situação dos estudantes em que caso sua média seja maior ou igual a 6 receberá o valor \"Aprovado\" e caso contrário receberá o valor \"Reprovado\".\n",
        "\n",
        "Gerar uma lista de listas com:\n",
        "\n",
        "Lista de tuplas com o nome dos estudantes e seus códigos.\n",
        "\n",
        "Lista de listas com as notas de cada estudante.\n",
        "\n",
        "Lista com as médias de cada estudante.\n",
        "\n",
        "Lista da situação dos estudantes de acordo com as médias.\n",
        "\n",
        "Os dados que utilizaremos são os mesmos que geramos nas situações anteriores (nomes, notas, medias)."
      ],
      "metadata": {
        "id": "XrKKpPAd2tUB"
      }
    },
    {
      "cell_type": "markdown",
      "source": [
        "Para lista das situações utilize o formato:\n",
        "\n",
        "[resultado_if if cond else resultado _else for item in lista]"
      ],
      "metadata": {
        "id": "51JrOl_J4ZLN"
      }
    },
    {
      "cell_type": "code",
      "source": [
        "nomes = [('João', 'J561'),('Maria', 'M13'),('José', 'J302'),('Claudia', 'C519'),('Ana', 'A483')]\n",
        "notas = [[8.0, 9.0, 10.0], [9.0, 7.0, 6.0], [3.4, 7.0, 7.0], [5.5, 6.6, 8.0], [6.0, 10.0, 9.5]]\n",
        "medias = [9.0, 7.3, 5.8, 6.7, 8.5]"
      ],
      "metadata": {
        "id": "s6wdzeQ133ZQ"
      },
      "execution_count": null,
      "outputs": []
    },
    {
      "cell_type": "code",
      "source": [
        "situação = [\"Aprovado(a)\" if media >=6 else \"Reprovado\" for media  in medias]\n",
        "situação"
      ],
      "metadata": {
        "colab": {
          "base_uri": "https://localhost:8080/"
        },
        "id": "JNDpWXec4Vjk",
        "outputId": "63567678-e269-4a04-a96c-95c4466a163f"
      },
      "execution_count": null,
      "outputs": [
        {
          "output_type": "execute_result",
          "data": {
            "text/plain": [
              "['Aprovado(a)', 'Aprovado(a)', 'Reprovado', 'Aprovado(a)', 'Aprovado(a)']"
            ]
          },
          "metadata": {},
          "execution_count": 5
        }
      ]
    },
    {
      "cell_type": "markdown",
      "source": [
        "Para gerar a lista de listas do enunciado podemos utilizar o formato a seguir\n",
        "\n",
        "[expr for item in lista de listas]"
      ],
      "metadata": {
        "id": "bglvf0PA5pB3"
      }
    },
    {
      "cell_type": "code",
      "source": [
        "cadastro = [x for x in [nomes,notas, medias,situação]]\n",
        "cadastro"
      ],
      "metadata": {
        "colab": {
          "base_uri": "https://localhost:8080/"
        },
        "id": "Jj7Ufr_G5z3N",
        "outputId": "08b5852d-520a-4511-8d13-16ebe539ee32"
      },
      "execution_count": null,
      "outputs": [
        {
          "output_type": "execute_result",
          "data": {
            "text/plain": [
              "[[('João', 'J561'),\n",
              "  ('Maria', 'M13'),\n",
              "  ('José', 'J302'),\n",
              "  ('Claudia', 'C519'),\n",
              "  ('Ana', 'A483')],\n",
              " [[8.0, 9.0, 10.0],\n",
              "  [9.0, 7.0, 6.0],\n",
              "  [3.4, 7.0, 7.0],\n",
              "  [5.5, 6.6, 8.0],\n",
              "  [6.0, 10.0, 9.5]],\n",
              " [9.0, 7.3, 5.8, 6.7, 8.5],\n",
              " ['Aprovado(a)', 'Aprovado(a)', 'Reprovado', 'Aprovado(a)', 'Aprovado(a)']]"
            ]
          },
          "metadata": {},
          "execution_count": 6
        }
      ]
    },
    {
      "cell_type": "markdown",
      "source": [
        "Podemos recorrer a uma forma mais simples de gerar uma lista de listas, que usar diretamente as variáveis dentro dos colchetes, sem precisar escrever a expressão\n",
        "\n",
        "[expr for item in lista de listas].\n",
        "\n",
        "Para isso, vamos escrever, entre colchetes, [nomes, notas, medias, situacao]. Passaremos isso para lista_completa."
      ],
      "metadata": {
        "id": "O8yJn6y46RlT"
      }
    },
    {
      "cell_type": "code",
      "source": [
        "lista_completa = [nomes,notas,medias , situação]\n",
        "lista_completa"
      ],
      "metadata": {
        "colab": {
          "base_uri": "https://localhost:8080/"
        },
        "id": "ey61kovZ6Y62",
        "outputId": "f5253ef7-19e9-4a14-9ca7-dbe7c7967cd9"
      },
      "execution_count": null,
      "outputs": [
        {
          "output_type": "execute_result",
          "data": {
            "text/plain": [
              "[[('João', 'J561'),\n",
              "  ('Maria', 'M13'),\n",
              "  ('José', 'J302'),\n",
              "  ('Claudia', 'C519'),\n",
              "  ('Ana', 'A483')],\n",
              " [[8.0, 9.0, 10.0],\n",
              "  [9.0, 7.0, 6.0],\n",
              "  [3.4, 7.0, 7.0],\n",
              "  [5.5, 6.6, 8.0],\n",
              "  [6.0, 10.0, 9.5]],\n",
              " [9.0, 7.3, 5.8, 6.7, 8.5],\n",
              " ['Aprovado(a)', 'Aprovado(a)', 'Reprovado', 'Aprovado(a)', 'Aprovado(a)']]"
            ]
          },
          "metadata": {},
          "execution_count": 7
        }
      ]
    },
    {
      "cell_type": "code",
      "source": [
        "Agora,a nossa demanda consiste em gerar um dicionário a partir da lista de listas\n",
        "que criamos na Situação 10 para passá-la à pessoa responsável por construir as\n",
        "tabelas,possibilitando a análise dos dados.\n",
        "\n",
        "As chaves do nosso dicionário serão as colunas identificando o tipo de dado.\n",
        "\n",
        "Os valores serão as listas com os dados correspondentes àquela chave."
      ],
      "metadata": {
        "id": "KQzL_gvd77k4"
      },
      "execution_count": null,
      "outputs": []
    },
    {
      "cell_type": "code",
      "source": [
        "lista_completa = [[('João', 'J561'),('Maria', 'M13'),('José', 'J302'),('Claudia', 'C519'),('Ana', 'A483')],\n",
        " [[8.0, 9.0, 10.0], [9.0, 7.0, 6.0], [3.4, 7.0, 7.0], [5.5, 6.6, 8.0], [6.0, 10.0, 9.5]],[9.0, 7.3, 5.8, 6.7, 8.5],\n",
        "                  ['Aprovado', 'Aprovado', 'Reprovado', 'Aprovado', 'Aprovado']]"
      ],
      "metadata": {
        "id": "GL9bmuPz8KXz"
      },
      "execution_count": null,
      "outputs": []
    },
    {
      "cell_type": "code",
      "source": [
        "#Colunas com os tipos dos dados (exceto nome)\n",
        "coluna = [\"Notas\", \"Media Final\", \"Situação\"]\n",
        "\n",
        "cadastro = {coluna[i]:lista_completa[i+1] for i in range(len(coluna))}\n",
        "cadastro"
      ],
      "metadata": {
        "colab": {
          "base_uri": "https://localhost:8080/"
        },
        "id": "IxcT-xwi8NyP",
        "outputId": "9bc5e536-efc2-493e-fdaa-c2018f421522"
      },
      "execution_count": null,
      "outputs": [
        {
          "output_type": "execute_result",
          "data": {
            "text/plain": [
              "{'Notas': [[8.0, 9.0, 10.0],\n",
              "  [9.0, 7.0, 6.0],\n",
              "  [3.4, 7.0, 7.0],\n",
              "  [5.5, 6.6, 8.0],\n",
              "  [6.0, 10.0, 9.5]],\n",
              " 'Media Final': [9.0, 7.3, 5.8, 6.7, 8.5],\n",
              " 'Situação': ['Aprovado(a)',\n",
              "  'Aprovado(a)',\n",
              "  'Reprovado',\n",
              "  'Aprovado(a)',\n",
              "  'Aprovado(a)']}"
            ]
          },
          "metadata": {},
          "execution_count": 8
        }
      ]
    },
    {
      "cell_type": "code",
      "source": [
        "#Vamos por fim adicionar o nome dos estudantes, extraindo apenas seus nomes\n",
        "cadastro[\"estudante\"]  = [lista_completa[0][i][0] for i in range(len(lista_completa[0]))]\n",
        "cadastro"
      ],
      "metadata": {
        "colab": {
          "base_uri": "https://localhost:8080/"
        },
        "id": "PyYJOXor9s_h",
        "outputId": "9f0cf8df-07a0-4d51-aebe-dcc2b4cb50cd"
      },
      "execution_count": null,
      "outputs": [
        {
          "output_type": "execute_result",
          "data": {
            "text/plain": [
              "{'Notas': [[8.0, 9.0, 10.0],\n",
              "  [9.0, 7.0, 6.0],\n",
              "  [3.4, 7.0, 7.0],\n",
              "  [5.5, 6.6, 8.0],\n",
              "  [6.0, 10.0, 9.5]],\n",
              " 'Media Final': [9.0, 7.3, 5.8, 6.7, 8.5],\n",
              " 'Situação': ['Aprovado(a)',\n",
              "  'Aprovado(a)',\n",
              "  'Reprovado',\n",
              "  'Aprovado(a)',\n",
              "  'Aprovado(a)'],\n",
              " 'estudante': ['João', 'Maria', 'José', 'Claudia', 'Ana']}"
            ]
          },
          "metadata": {},
          "execution_count": 10
        }
      ]
    },
    {
      "cell_type": "code",
      "source": [
        "notas = {'João': [8.0, 9.0, 10.0], 'Maria': [9.0, 7.0, 6.0], 'José': [3.4, 7.0, 8.0],'Cláudia': [5.5, 6.6, 8.0], 'Ana': [6.0, 10.0, 9.5], 'Joaquim': [5.5, 7.5, 9.0], 'Júlia': [6.0, 8.0, 7.0], 'Pedro': [3.0, 4.0, 6.0]}"
      ],
      "metadata": {
        "id": "0xGquFYe-W37"
      },
      "execution_count": null,
      "outputs": []
    },
    {
      "cell_type": "markdown",
      "source": [],
      "metadata": {
        "id": "zcha8ik8wY2A"
      }
    },
    {
      "cell_type": "code",
      "source": [
        "nome = input(\"Digite o nome do(a) estudante: \")\n",
        "resultado = notas[nome]\n",
        "resultado"
      ],
      "metadata": {
        "colab": {
          "base_uri": "https://localhost:8080/",
          "height": 193
        },
        "id": "YGM9VdbVwT5D",
        "outputId": "e6b6ea6f-fe2d-4bdb-a98e-17314cb4b009"
      },
      "execution_count": null,
      "outputs": [
        {
          "name": "stdout",
          "output_type": "stream",
          "text": [
            "Digite o nome do(a) estudante: Hugo\n"
          ]
        },
        {
          "output_type": "error",
          "ename": "KeyError",
          "evalue": "'Hugo'",
          "traceback": [
            "\u001b[0;31m---------------------------------------------------------------------------\u001b[0m",
            "\u001b[0;31mKeyError\u001b[0m                                  Traceback (most recent call last)",
            "\u001b[0;32m<ipython-input-3-088949fbf590>\u001b[0m in \u001b[0;36m<cell line: 0>\u001b[0;34m()\u001b[0m\n\u001b[1;32m      1\u001b[0m \u001b[0mnome\u001b[0m \u001b[0;34m=\u001b[0m \u001b[0minput\u001b[0m\u001b[0;34m(\u001b[0m\u001b[0;34m\"Digite o nome do(a) estudante: \"\u001b[0m\u001b[0;34m)\u001b[0m\u001b[0;34m\u001b[0m\u001b[0;34m\u001b[0m\u001b[0m\n\u001b[0;32m----> 2\u001b[0;31m \u001b[0mresultado\u001b[0m \u001b[0;34m=\u001b[0m \u001b[0mnotas\u001b[0m\u001b[0;34m[\u001b[0m\u001b[0mnome\u001b[0m\u001b[0;34m]\u001b[0m\u001b[0;34m\u001b[0m\u001b[0;34m\u001b[0m\u001b[0m\n\u001b[0m\u001b[1;32m      3\u001b[0m \u001b[0mresultado\u001b[0m\u001b[0;34m\u001b[0m\u001b[0;34m\u001b[0m\u001b[0m\n",
            "\u001b[0;31mKeyError\u001b[0m: 'Hugo'"
          ]
        }
      ]
    },
    {
      "cell_type": "code",
      "source": [
        "try:\n",
        "  nome = input(\"Digite o nome do(a) estudante: \")\n",
        "  resultado = notas[nome]\n",
        "except Exception as e:\n",
        "  print(type(e), f\"Erro: {e}\")"
      ],
      "metadata": {
        "colab": {
          "base_uri": "https://localhost:8080/"
        },
        "id": "UG4k30Bjwq2a",
        "outputId": "ee922293-c00c-4375-b0ca-5eec65976a86"
      },
      "execution_count": null,
      "outputs": [
        {
          "output_type": "stream",
          "name": "stdout",
          "text": [
            "Digite o nome do(a) estudante: Hugo\n",
            "<class 'KeyError'> Erro: 'Hugo'\n"
          ]
        }
      ]
    },
    {
      "cell_type": "markdown",
      "source": [],
      "metadata": {
        "id": "BVNfabQHxfcG"
      }
    },
    {
      "cell_type": "code",
      "source": [
        "notas = {'João': [8.0, 9.0, 10.0], 'Maria': [9.0, 7.0, 6.0], 'José': [3.4, 7.0, 8.0],'Cláudia': [5.5, 6.6, 8.0], 'Ana': [6.0, 10.0, 9.5], 'Joaquim': [5.5, 7.5, 9.0], 'Júlia': [6.0, 8.0, 7.0], 'Pedro': [3.0, 4.0, 6.0]}"
      ],
      "metadata": {
        "id": "K_MlkrwJxgfn"
      },
      "execution_count": null,
      "outputs": []
    },
    {
      "cell_type": "code",
      "source": [
        "try:\n",
        "  nome = input(\"Digite o nome do(a) estudante: \")\n",
        "  resultado = notas[nome]\n",
        "except KeyError:\n",
        "  print(\"Estudante não está matriculado(a) na turma\")"
      ],
      "metadata": {
        "colab": {
          "base_uri": "https://localhost:8080/"
        },
        "id": "PqjbZCfAxPvz",
        "outputId": "11d9b8a1-ba63-4b59-a2fb-8e4b84edd02b"
      },
      "execution_count": null,
      "outputs": [
        {
          "output_type": "stream",
          "name": "stdout",
          "text": [
            "Digite o nome do(a) estudante: Hugo\n",
            "Estudante não está matriculado(a) na turma\n"
          ]
        }
      ]
    },
    {
      "cell_type": "code",
      "source": [
        "notas = {'João': [8.0, 9.0, 10.0], 'Hugo': [9.0, 7.0, 6.0], 'José': [3.4, 7.0, 8.0],'Cláudia': [5.5, 6.6, 8.0], 'Ana': [6.0, 10.0, 9.5], 'Joaquim': [5.5, 7.5, 9.0], 'Júlia': [6.0, 8.0, 7.0], 'Pedro': [3.0, 4.0, 6.0]}"
      ],
      "metadata": {
        "id": "dn-EUUvnyiBp"
      },
      "execution_count": null,
      "outputs": []
    },
    {
      "cell_type": "code",
      "source": [
        "try:\n",
        "    nome = input(\" Digite o nome do(a) estudante: \")\n",
        "    resultado = notas[nome]\n",
        "except KeyError:\n",
        "    print(\"Estudante não está matriculado(a) na turma\")\n",
        "else:\n",
        "    print(resultado)"
      ],
      "metadata": {
        "id": "KQZGOymcyed4",
        "colab": {
          "base_uri": "https://localhost:8080/",
          "height": 228
        },
        "outputId": "aa03f62b-b003-4614-d5bb-1f0a3f7eac78"
      },
      "execution_count": null,
      "outputs": [
        {
          "name": "stdout",
          "output_type": "stream",
          "text": [
            " Digite o nome do(a) estudante: Hugo\n"
          ]
        },
        {
          "output_type": "error",
          "ename": "NameError",
          "evalue": "name 'notas' is not defined",
          "traceback": [
            "\u001b[0;31m---------------------------------------------------------------------------\u001b[0m",
            "\u001b[0;31mNameError\u001b[0m                                 Traceback (most recent call last)",
            "\u001b[0;32m<ipython-input-22-a481ca90c658>\u001b[0m in \u001b[0;36m<cell line: 0>\u001b[0;34m()\u001b[0m\n\u001b[1;32m      1\u001b[0m \u001b[0;32mtry\u001b[0m\u001b[0;34m:\u001b[0m\u001b[0;34m\u001b[0m\u001b[0;34m\u001b[0m\u001b[0m\n\u001b[1;32m      2\u001b[0m     \u001b[0mnome\u001b[0m \u001b[0;34m=\u001b[0m \u001b[0minput\u001b[0m\u001b[0;34m(\u001b[0m\u001b[0;34m\" Digite o nome do(a) estudante: \"\u001b[0m\u001b[0;34m)\u001b[0m\u001b[0;34m\u001b[0m\u001b[0;34m\u001b[0m\u001b[0m\n\u001b[0;32m----> 3\u001b[0;31m     \u001b[0mresultado\u001b[0m \u001b[0;34m=\u001b[0m \u001b[0mnotas\u001b[0m\u001b[0;34m[\u001b[0m\u001b[0mnome\u001b[0m\u001b[0;34m]\u001b[0m\u001b[0;34m\u001b[0m\u001b[0;34m\u001b[0m\u001b[0m\n\u001b[0m\u001b[1;32m      4\u001b[0m \u001b[0;32mexcept\u001b[0m \u001b[0mKeyError\u001b[0m\u001b[0;34m:\u001b[0m\u001b[0;34m\u001b[0m\u001b[0;34m\u001b[0m\u001b[0m\n\u001b[1;32m      5\u001b[0m     \u001b[0mprint\u001b[0m\u001b[0;34m(\u001b[0m\u001b[0;34m\"Estudante não está matriculado(a) na turma\"\u001b[0m\u001b[0;34m)\u001b[0m\u001b[0;34m\u001b[0m\u001b[0;34m\u001b[0m\u001b[0m\n",
            "\u001b[0;31mNameError\u001b[0m: name 'notas' is not defined"
          ]
        }
      ]
    },
    {
      "cell_type": "code",
      "source": [
        "#CLAUSULA FINALLY\n",
        "notas = {'João': [8.0, 9.0, 10.0], 'Maria': [9.0, 7.0, 6.0], 'José': [3.4, 7.0, 8.0],'Cláudia': [5.5, 6.6, 8.0], 'Ana': [6.0, 10.0, 9.5], 'Joaquim': [5.5, 7.5, 9.0], 'Júlia': [6.0, 8.0, 7.0], 'Pedro': [3.0, 4.0, 6.0]}"
      ],
      "metadata": {
        "id": "ixojlu_lNyQP"
      },
      "execution_count": null,
      "outputs": []
    },
    {
      "cell_type": "code",
      "source": [
        "try:\n",
        "    nome = input(\"Digite o nome do(a) estudante: \")\n",
        "    resultado = notas[nome]\n",
        "except KeyError:\n",
        "    print(\"Estudante não matriculado(a) na turma\")\n",
        "else:\n",
        "    print(resultado)\n",
        "finally:\n",
        "    print(\"A consulta foi encerrada!\")"
      ],
      "metadata": {
        "colab": {
          "base_uri": "https://localhost:8080/"
        },
        "id": "8hnfc6W-PcYK",
        "outputId": "7935f247-258e-46e5-a95b-4837254c7988"
      },
      "execution_count": null,
      "outputs": [
        {
          "output_type": "stream",
          "name": "stdout",
          "text": [
            "Digite o nome do(a) estudante: Hugo\n",
            "Estudante não matriculado(a) na turma\n",
            "A consulta foi encerrada!\n"
          ]
        }
      ]
    },
    {
      "cell_type": "code",
      "source": [
        "# RAISE A estruturação é a seguinte:\n",
        "'''raise ValueError(\"A lista de notas deve possuir dez elementos\"\n",
        ")'''"
      ],
      "metadata": {
        "id": "AaaM7fcWR-mS"
      },
      "execution_count": null,
      "outputs": []
    },
    {
      "cell_type": "code",
      "source": [
        "def media(lista: list = [0]) -> float:\n",
        "    '''\n",
        "    Função para calcular a média de notas passadas por uma lista\n",
        "\n",
        "    lista: list, default [0]\n",
        "        Lista com as notas para calcular a média\n",
        "\n",
        "    return: float\n",
        "        Média calculada\n",
        "    '''\n",
        "    if len(lista) > 4:\n",
        "        raise ValueError(\"A lista não pode possuir mais de 4 notas.\")\n",
        "\n",
        "    calculo = sum(lista) / len(lista)\n",
        "    return calculo"
      ],
      "metadata": {
        "id": "ljyZ7VaLTCDV"
      },
      "execution_count": null,
      "outputs": []
    },
    {
      "cell_type": "code",
      "source": [
        "notas = [6,7,8,8]\n",
        "resultado = media (notas)\n",
        "resultado"
      ],
      "metadata": {
        "colab": {
          "base_uri": "https://localhost:8080/"
        },
        "id": "vIYDtXEgU3Ur",
        "outputId": "ed1f3d97-4f57-4720-dc82-10d6ceaac6b0"
      },
      "execution_count": null,
      "outputs": [
        {
          "output_type": "execute_result",
          "data": {
            "text/plain": [
              "7.25"
            ]
          },
          "metadata": {},
          "execution_count": 43
        }
      ]
    },
    {
      "cell_type": "code",
      "source": [
        "notas = [6,7,8,8,9]\n",
        "resultado = media (notas)\n",
        "resultado"
      ],
      "metadata": {
        "colab": {
          "base_uri": "https://localhost:8080/",
          "height": 297
        },
        "id": "zpJTSFGSVLHz",
        "outputId": "ca2d0742-3a59-4833-c7bd-01074f4c872a"
      },
      "execution_count": null,
      "outputs": [
        {
          "output_type": "error",
          "ename": "ValueError",
          "evalue": "A lista não pode possuir mais de 4 notas.",
          "traceback": [
            "\u001b[0;31m---------------------------------------------------------------------------\u001b[0m",
            "\u001b[0;31mValueError\u001b[0m                                Traceback (most recent call last)",
            "\u001b[0;32m<ipython-input-44-90d55c74dbc5>\u001b[0m in \u001b[0;36m<cell line: 0>\u001b[0;34m()\u001b[0m\n\u001b[1;32m      1\u001b[0m \u001b[0mnotas\u001b[0m \u001b[0;34m=\u001b[0m \u001b[0;34m[\u001b[0m\u001b[0;36m6\u001b[0m\u001b[0;34m,\u001b[0m\u001b[0;36m7\u001b[0m\u001b[0;34m,\u001b[0m\u001b[0;36m8\u001b[0m\u001b[0;34m,\u001b[0m\u001b[0;36m8\u001b[0m\u001b[0;34m,\u001b[0m\u001b[0;36m9\u001b[0m\u001b[0;34m]\u001b[0m\u001b[0;34m\u001b[0m\u001b[0;34m\u001b[0m\u001b[0m\n\u001b[0;32m----> 2\u001b[0;31m \u001b[0mresultado\u001b[0m \u001b[0;34m=\u001b[0m \u001b[0mmedia\u001b[0m \u001b[0;34m(\u001b[0m\u001b[0mnotas\u001b[0m\u001b[0;34m)\u001b[0m\u001b[0;34m\u001b[0m\u001b[0;34m\u001b[0m\u001b[0m\n\u001b[0m\u001b[1;32m      3\u001b[0m \u001b[0mresultado\u001b[0m\u001b[0;34m\u001b[0m\u001b[0;34m\u001b[0m\u001b[0m\n",
            "\u001b[0;32m<ipython-input-40-e8339acba33a>\u001b[0m in \u001b[0;36mmedia\u001b[0;34m(lista)\u001b[0m\n\u001b[1;32m     10\u001b[0m     '''\n\u001b[1;32m     11\u001b[0m     \u001b[0;32mif\u001b[0m \u001b[0mlen\u001b[0m\u001b[0;34m(\u001b[0m\u001b[0mlista\u001b[0m\u001b[0;34m)\u001b[0m \u001b[0;34m>\u001b[0m \u001b[0;36m4\u001b[0m\u001b[0;34m:\u001b[0m\u001b[0;34m\u001b[0m\u001b[0;34m\u001b[0m\u001b[0m\n\u001b[0;32m---> 12\u001b[0;31m         \u001b[0;32mraise\u001b[0m \u001b[0mValueError\u001b[0m\u001b[0;34m(\u001b[0m\u001b[0;34m\"A lista não pode possuir mais de 4 notas.\"\u001b[0m\u001b[0;34m)\u001b[0m\u001b[0;34m\u001b[0m\u001b[0;34m\u001b[0m\u001b[0m\n\u001b[0m\u001b[1;32m     13\u001b[0m \u001b[0;34m\u001b[0m\u001b[0m\n\u001b[1;32m     14\u001b[0m     \u001b[0mcalculo\u001b[0m \u001b[0;34m=\u001b[0m \u001b[0msum\u001b[0m\u001b[0;34m(\u001b[0m\u001b[0mlista\u001b[0m\u001b[0;34m)\u001b[0m \u001b[0;34m/\u001b[0m \u001b[0mlen\u001b[0m\u001b[0;34m(\u001b[0m\u001b[0mlista\u001b[0m\u001b[0;34m)\u001b[0m\u001b[0;34m\u001b[0m\u001b[0;34m\u001b[0m\u001b[0m\n",
            "\u001b[0;31mValueError\u001b[0m: A lista não pode possuir mais de 4 notas."
          ]
        }
      ]
    },
    {
      "cell_type": "code",
      "source": [
        "notas = [6,7,8,8,\"8\"]\n",
        "resultado = media (notas)\n",
        "resultado"
      ],
      "metadata": {
        "colab": {
          "base_uri": "https://localhost:8080/",
          "height": 297
        },
        "id": "GSqpiN09VOAW",
        "outputId": "62b917f8-6738-428e-a20f-28c9e356df10"
      },
      "execution_count": null,
      "outputs": [
        {
          "output_type": "error",
          "ename": "ValueError",
          "evalue": "A lista não pode possuir mais de 4 notas.",
          "traceback": [
            "\u001b[0;31m---------------------------------------------------------------------------\u001b[0m",
            "\u001b[0;31mValueError\u001b[0m                                Traceback (most recent call last)",
            "\u001b[0;32m<ipython-input-45-8b513982911f>\u001b[0m in \u001b[0;36m<cell line: 0>\u001b[0;34m()\u001b[0m\n\u001b[1;32m      1\u001b[0m \u001b[0mnotas\u001b[0m \u001b[0;34m=\u001b[0m \u001b[0;34m[\u001b[0m\u001b[0;36m6\u001b[0m\u001b[0;34m,\u001b[0m\u001b[0;36m7\u001b[0m\u001b[0;34m,\u001b[0m\u001b[0;36m8\u001b[0m\u001b[0;34m,\u001b[0m\u001b[0;36m8\u001b[0m\u001b[0;34m,\u001b[0m\u001b[0;34m\"8\"\u001b[0m\u001b[0;34m]\u001b[0m\u001b[0;34m\u001b[0m\u001b[0;34m\u001b[0m\u001b[0m\n\u001b[0;32m----> 2\u001b[0;31m \u001b[0mresultado\u001b[0m \u001b[0;34m=\u001b[0m \u001b[0mmedia\u001b[0m \u001b[0;34m(\u001b[0m\u001b[0mnotas\u001b[0m\u001b[0;34m)\u001b[0m\u001b[0;34m\u001b[0m\u001b[0;34m\u001b[0m\u001b[0m\n\u001b[0m\u001b[1;32m      3\u001b[0m \u001b[0mresultado\u001b[0m\u001b[0;34m\u001b[0m\u001b[0;34m\u001b[0m\u001b[0m\n",
            "\u001b[0;32m<ipython-input-40-e8339acba33a>\u001b[0m in \u001b[0;36mmedia\u001b[0;34m(lista)\u001b[0m\n\u001b[1;32m     10\u001b[0m     '''\n\u001b[1;32m     11\u001b[0m     \u001b[0;32mif\u001b[0m \u001b[0mlen\u001b[0m\u001b[0;34m(\u001b[0m\u001b[0mlista\u001b[0m\u001b[0;34m)\u001b[0m \u001b[0;34m>\u001b[0m \u001b[0;36m4\u001b[0m\u001b[0;34m:\u001b[0m\u001b[0;34m\u001b[0m\u001b[0;34m\u001b[0m\u001b[0m\n\u001b[0;32m---> 12\u001b[0;31m         \u001b[0;32mraise\u001b[0m \u001b[0mValueError\u001b[0m\u001b[0;34m(\u001b[0m\u001b[0;34m\"A lista não pode possuir mais de 4 notas.\"\u001b[0m\u001b[0;34m)\u001b[0m\u001b[0;34m\u001b[0m\u001b[0;34m\u001b[0m\u001b[0m\n\u001b[0m\u001b[1;32m     13\u001b[0m \u001b[0;34m\u001b[0m\u001b[0m\n\u001b[1;32m     14\u001b[0m     \u001b[0mcalculo\u001b[0m \u001b[0;34m=\u001b[0m \u001b[0msum\u001b[0m\u001b[0;34m(\u001b[0m\u001b[0mlista\u001b[0m\u001b[0;34m)\u001b[0m \u001b[0;34m/\u001b[0m \u001b[0mlen\u001b[0m\u001b[0;34m(\u001b[0m\u001b[0mlista\u001b[0m\u001b[0;34m)\u001b[0m\u001b[0;34m\u001b[0m\u001b[0;34m\u001b[0m\u001b[0m\n",
            "\u001b[0;31mValueError\u001b[0m: A lista não pode possuir mais de 4 notas."
          ]
        }
      ]
    },
    {
      "cell_type": "code",
      "source": [
        "try:\n",
        "    notas = [6, 7, 8, 8, 9]\n",
        "    resultado = media(notas)\n",
        "except TypeError:\n",
        "    print(\"Não foi possível calcular a média do(a) estudante. Só são aceitos valores numéricos!\")\n",
        "except ValueError as e:\n",
        "    print(e)\n",
        "else:\n",
        "    print(resultado)\n",
        "finally:\n",
        "    print(\"A consulta foi encerrada!\")"
      ],
      "metadata": {
        "colab": {
          "base_uri": "https://localhost:8080/"
        },
        "id": "gjBJMoABVbEH",
        "outputId": "bea61b61-9088-46df-ebc7-77d9a84375cb"
      },
      "execution_count": null,
      "outputs": [
        {
          "output_type": "stream",
          "name": "stdout",
          "text": [
            "A lista não pode possuir mais de 4 notas.\n",
            "A consulta foi encerrada!\n"
          ]
        }
      ]
    },
    {
      "cell_type": "code",
      "source": [
        "try:\n",
        "    notas = [6, 7, 8,  \"9\"]\n",
        "    resultado = media(notas)\n",
        "except TypeError:\n",
        "    print(\"Não foi possível calcular a média do(a) estudante. Só são aceitos valores numéricos!\")\n",
        "except ValueError as e:\n",
        "    print(e)\n",
        "else:\n",
        "    print(resultado)\n",
        "finally:\n",
        "    print(\"A consulta foi encerrada!\")"
      ],
      "metadata": {
        "colab": {
          "base_uri": "https://localhost:8080/"
        },
        "id": "E9rrlL1bXH5j",
        "outputId": "35fa953a-13f1-440a-9306-2d1008e636ab"
      },
      "execution_count": null,
      "outputs": [
        {
          "output_type": "stream",
          "name": "stdout",
          "text": [
            "Não foi possível calcular a média do(a) estudante. Só são aceitos valores numéricos!\n",
            "A consulta foi encerrada!\n"
          ]
        }
      ]
    },
    {
      "cell_type": "markdown",
      "source": [
        "Atividades de trabalhos desenvolvidos em cursos"
      ],
      "metadata": {
        "id": "MZOBmDw73IES"
      }
    },
    {
      "cell_type": "code",
      "source": [
        "#Crie um programa que leia a seguinte lista de números e escolha um número desta aleatoriamente.\n",
        "lista = [8, 12, 54, 23, 43, 1, 90, 87, 105, 77]"
      ],
      "metadata": {
        "id": "7dl2e7KWV9lA"
      },
      "execution_count": null,
      "outputs": []
    },
    {
      "cell_type": "code",
      "source": [
        "from random import choice\n",
        "lista = [8, 12, 54, 23, 43, 1, 90, 87, 105, 77]\n",
        "print(f\"Número escolhido: {choice(lista)}\")"
      ],
      "metadata": {
        "colab": {
          "base_uri": "https://localhost:8080/"
        },
        "id": "XQOTv6XaBbe3",
        "outputId": "c87c1bba-f7e7-4829-b824-2cf4ccda7d27"
      },
      "execution_count": null,
      "outputs": [
        {
          "output_type": "stream",
          "name": "stdout",
          "text": [
            "Número escolhido: 87\n"
          ]
        }
      ]
    },
    {
      "cell_type": "code",
      "source": [
        "#Crie um programa que sorteia, aleatoriamente, um número inteiro positivo menor que 100.\n",
        "#Dica: use a função randrange() da biblioteca random. Essa função recebe como parâmetro o valor limite para a escolha aleatória ou um intervalo se passado o limite mínimo e máximo. Por exemplo, randrange(5) gera valores inteiros menores que 5."
      ],
      "metadata": {
        "id": "LA_3AV43BwvJ"
      },
      "execution_count": null,
      "outputs": []
    },
    {
      "cell_type": "code",
      "source": [
        "from random import randrange\n",
        "randrange(100)\n"
      ],
      "metadata": {
        "colab": {
          "base_uri": "https://localhost:8080/"
        },
        "id": "EcdwzBDGDxFk",
        "outputId": "3fdbc825-6166-4154-acc0-561f2a75a1bd"
      },
      "execution_count": null,
      "outputs": [
        {
          "output_type": "execute_result",
          "data": {
            "text/plain": [
              "20"
            ]
          },
          "metadata": {},
          "execution_count": 4
        }
      ]
    },
    {
      "cell_type": "code",
      "source": [
        "#Crie um programa que solicite à pessoa usuária digitar dois números inteiros e calcular a potência do 1º número elevado ao 2º.\n",
        "#Dica: use a função pow() da biblioteca math\n"
      ],
      "metadata": {
        "id": "iDaNVDRECGP6"
      },
      "execution_count": null,
      "outputs": []
    },
    {
      "cell_type": "code",
      "source": [
        "from math import pow\n",
        "base = int(input(\"Digite a base da potência: \"))\n",
        "expoente = int(input(\"Digite o expoente da potência: \"))\n",
        "print(f\"{base} elevado a {expoente} é igual a {pow(base, expoente)}\")"
      ],
      "metadata": {
        "colab": {
          "base_uri": "https://localhost:8080/"
        },
        "id": "7gsX9yRuEEzw",
        "outputId": "629dd911-8631-4221-e9a9-84e6afa89907"
      },
      "execution_count": null,
      "outputs": [
        {
          "output_type": "stream",
          "name": "stdout",
          "text": [
            "Digite a base da potência: 12\n",
            "Digite o expoente da potência: 2\n",
            "12 elevado a 2 é igual a 144.0\n"
          ]
        }
      ]
    },
    {
      "cell_type": "code",
      "source": [
        "# 6. Um programa deve ser escrito para sortear uma pessoa seguidora de uma rede social para ganhar um prêmio. A lista de participantes é numerada e devemos escolher aleatoriamente um número de acordo com a quantidade de participantes. Peça à pessoa usuária para fornecer o número de participantes do sorteio e devolva para ela o número sorteado.\n",
        "from random import randint\n",
        "# Transformando a quantidade de participantes de string para inteiro\n",
        "n = int(input(\"Digite o nº de participantes do sorteio: \"))\n",
        "# Sorteando um número no intervalo de 1 até a quantidade de participantes\n",
        "print(f\"O número sorteado foi {randint(1, n)}\")\n"
      ],
      "metadata": {
        "colab": {
          "base_uri": "https://localhost:8080/"
        },
        "id": "sPpujE0VCPl2",
        "outputId": "d2857107-658e-491c-c33a-597190d81354"
      },
      "execution_count": null,
      "outputs": [
        {
          "output_type": "stream",
          "name": "stdout",
          "text": [
            "Digite o nº de participantes do sorteio: 17000\n",
            "O número sorteado foi 13747\n"
          ]
        }
      ]
    },
    {
      "cell_type": "code",
      "source": [
        "#Você recebeu uma demanda para gerar números de token para acessar o aplicativo de uma empresa. O token precisa ser par e variar de 1000 até 9998. Escreva um código que solicita à pessoa usuária o seu nome e exibe uma mensagem junto a esse token gerado aleatoriamente.\n",
        "#\"Olá, [nome], o seu token de acesso é [token]! Seja bem-vindo(a)!\"\n",
        "from random import randrange\n",
        "nome = input(\"Qual o seu nome? \")\n",
        "# Gerando um token par de 1000 a 9998. O randrange tem o intervalo aberto em 10000, ou seja,\n",
        "# não considera 10000 como opção de escolha (token >= 1000 e token < 10000)\n",
        "token = randrange(1000, 10000, 2)\n",
        "\n",
        "print(f\"Olá, {nome}, o seu token de acesso é {token}! Seja bem-vindo(a)!\")\n"
      ],
      "metadata": {
        "colab": {
          "base_uri": "https://localhost:8080/"
        },
        "id": "ls9ZwEfsCWAg",
        "outputId": "2d00331f-917d-44ec-d24c-9fc1d3af241b"
      },
      "execution_count": null,
      "outputs": [
        {
          "output_type": "stream",
          "name": "stdout",
          "text": [
            "Qual o seu nome? hugo\n",
            "Olá, hugo, o seu token de acesso é 1604! Seja bem-vindo(a)!\n"
          ]
        }
      ]
    },
    {
      "cell_type": "code",
      "source": [
        "# 8. Para diversificar e atrair novos(as) clientes, uma lanchonete criou um item misterioso em seu cardápio chamado \"salada de frutas surpresa\". Neste item, são escolhidas aleatoriamente 3 frutas de uma lista de 12 para compor a salada de frutas da pessoa cliente. Crie o código que faça essa seleção aleatória de acordo com a lista abaixo:\n",
        "#frutas = [\"maçã\", \"banana\", \"uva\", \"pêra\",  \"manga\", \"coco\", \"melancia\", \"mamão\",\"laranja\", \"abacaxi\", \"kiwi\", \"ameixa\"]\n",
        "from random import choices\n",
        "# Lista das frutas disponíveis\n",
        "frutas = [\"maçã\", \"banana\", \"uva\", \"pêra\",\"manga\", \"coco\",\n",
        "          \"melancia\", \"mamão\", \"laranja\", \"abacaxi\", \"kiwi\", \"ameixa\"]\n",
        "# Gerando uma lista com a escolha aleatoria de 3 frutas\n",
        "salada = choices(frutas, k=3)\n",
        "# Imprimindo os itens da lista de frutas gerada\n",
        "print(f\"A salada surpresa é: {salada[0]}, {salada[1]} e {salada[2]}\")\n",
        "\n",
        "\n"
      ],
      "metadata": {
        "colab": {
          "base_uri": "https://localhost:8080/"
        },
        "id": "tZ6QWQFbChJv",
        "outputId": "da698cd5-a328-4dfa-b0d7-5c7ee432a2d8"
      },
      "execution_count": null,
      "outputs": [
        {
          "output_type": "stream",
          "name": "stdout",
          "text": [
            "A salada surpresa é: laranja, abacaxi e manga\n"
          ]
        }
      ]
    },
    {
      "cell_type": "code",
      "source": [
        "#9. Você recebeu um desafio de calcular a raiz quadrada de uma lista de números, identificando quais resultaram em um número inteiro. A lista é a seguinte:\n",
        "#numeros = [2, 8, 15, 23, 91, 112, 256]\n",
        "#No final, informe quais números possuem raízes inteiras e seus respectivos valores.\n",
        "#Dica: use a comparação entre a divisão inteira (//) da raiz por 1 com o valor da raiz para verificar se o número é inteiro. Por exemplo:\n",
        "#num = 1.5\n",
        "#num_2 = 2\n",
        "#print(f'{num} é inteiro? :', num // 1 == num)\n",
        "#print(f'{num_2} é inteiro? :', num_2 // 1 == num_2)\n",
        "#1.5 é inteiro? : False\n",
        "#2 é inteiro? : True\n",
        "\n",
        "from math import sqrt\n",
        "\n",
        "numeros = [2, 8, 15, 23, 91, 112, 256]\n",
        "# iniciando uma lista vazia para receber as raízes\n",
        "raiz = []\n",
        "\n",
        "# laço for para calcular cada raiz da lista de números e adicionar a lista raiz\n",
        "for numero in numeros:\n",
        "  raiz.append(sqrt(numero))\n",
        "\n",
        "# laço for para ler a lista raiz e exibir um texto só quando a raiz for um valor inteiro\n",
        "for i in range(len(raiz)):\n",
        "  # condição para testar se um número é inteiro (Ex: 2.5 // 1 = 2 ... 2 != 2.5)\n",
        "  if raiz[i] // 1 == raiz[i]:\n",
        "    print(f\"O número {numeros[i]} possui raiz quadrada inteira igual a {int(raiz[i])}\")\n",
        "\n"
      ],
      "metadata": {
        "colab": {
          "base_uri": "https://localhost:8080/"
        },
        "id": "_TJwslpRCsqo",
        "outputId": "31d3fa96-1b23-4c00-c903-676c6ef90d1e"
      },
      "execution_count": null,
      "outputs": [
        {
          "output_type": "stream",
          "name": "stdout",
          "text": [
            "O número 256 possui raiz quadrada inteira igual a 16\n"
          ]
        }
      ]
    },
    {
      "cell_type": "code",
      "source": [
        "#10. Faça um programa para uma loja que vende grama para jardins. Essa loja trabalha com jardins circulares e o preço do metro quadrado da grama é de R$ 25,00. Peça à pessoa usuária o raio da área circular e devolva o valor em reais do quanto precisará pagar.\n",
        "#Dica: use a variável pi e o método pow() da biblioteca math. O cálculo da área de um círculo é de: A = π*r^2 (lê-se pi vezes raio ao quadrado).\n",
        "# importando 2 métodos da mesma biblioteca\n",
        "from math import pi, pow\n",
        "\n",
        "raio = float(input(\"Digite o raio da área circular em metros: \"))\n",
        "# Cálculo da área com os métodos da math e obtenção do custo em reais\n",
        "area = pi*pow(raio,2)\n",
        "valor = area * 25.00\n",
        "\n",
        "# Exibição do cálculo e custo na tela. O round(n,2) arredonda qualquer número em 2 casas decimais\n",
        "print(f\"Você precisará pagar R$ {round(valor,2)} por uma área de {round(area,2)} metros de grama\")\n"
      ],
      "metadata": {
        "colab": {
          "base_uri": "https://localhost:8080/"
        },
        "id": "EAv88E-vDKR-",
        "outputId": "6bbbf062-fa1d-45cb-93b9-edd57e8e877c"
      },
      "execution_count": null,
      "outputs": [
        {
          "output_type": "stream",
          "name": "stdout",
          "text": [
            "Digite o raio da área circular em metros: 12.00\n",
            "Você precisará pagar R$ 11309.73 por uma área de 452.39 metros de grama\n"
          ]
        }
      ]
    },
    {
      "cell_type": "code",
      "source": [],
      "metadata": {
        "id": "cQynIx-tDiN1"
      },
      "execution_count": null,
      "outputs": []
    },
    {
      "cell_type": "code",
      "source": [],
      "metadata": {
        "id": "N36-O1kpDGeW"
      },
      "execution_count": null,
      "outputs": []
    },
    {
      "cell_type": "code",
      "source": [],
      "metadata": {
        "id": "avZvQVqiCvoj"
      },
      "execution_count": null,
      "outputs": []
    }
  ]
}